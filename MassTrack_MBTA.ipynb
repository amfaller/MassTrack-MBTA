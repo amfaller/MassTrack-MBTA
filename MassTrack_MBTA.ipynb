{
  "cells": [
    {
      "cell_type": "markdown",
      "metadata": {
        "id": "view-in-github",
        "colab_type": "text"
      },
      "source": [
        "<a href=\"https://colab.research.google.com/github/amfaller/MassTrack-MBTA/blob/main/MassTrack_MBTA.ipynb\" target=\"_parent\"><img src=\"https://colab.research.google.com/assets/colab-badge.svg\" alt=\"Open In Colab\"/></a>"
      ]
    },
    {
      "cell_type": "markdown",
      "metadata": {
        "id": "nh-FxLSLLS6-"
      },
      "source": [
        "# MassTrack: MBTA\n",
        "This Colab notebook serves as a scratch pad to analyze MBTA data for the Green Line portion of the MassTrack system."
      ]
    },
    {
      "cell_type": "markdown",
      "metadata": {
        "id": "aEGNgVqu7Mwm"
      },
      "source": [
        "## Fetch Data"
      ]
    },
    {
      "cell_type": "markdown",
      "metadata": {
        "id": "yp12jLZuLgd7"
      },
      "source": [
        "The data is located in a Zenodo repository located here: https://zenodo.org/records/15121997\n",
        "\n",
        "This is the same zip file available directly from the MBTA data repository: https://mbta-massdot.opendata.arcgis.com/datasets/0b4dc16b8b984836962229865d5b573b/about"
      ]
    },
    {
      "cell_type": "code",
      "execution_count": 1,
      "metadata": {
        "colab": {
          "base_uri": "https://localhost:8080/"
        },
        "id": "NQokm4dN5rwh",
        "outputId": "31c0cb85-c827-4a11-a48c-b5d9850cc883"
      },
      "outputs": [
        {
          "output_type": "stream",
          "name": "stdout",
          "text": [
            "--2025-04-15 16:04:07--  https://zenodo.org/record/15121997/files/TravelTimes_2024.zip?download=1\n",
            "Resolving zenodo.org (zenodo.org)... 188.185.43.25, 188.185.48.194, 188.185.45.92, ...\n",
            "Connecting to zenodo.org (zenodo.org)|188.185.43.25|:443... connected.\n",
            "HTTP request sent, awaiting response... 301 MOVED PERMANENTLY\n",
            "Location: /records/15121997/files/TravelTimes_2024.zip [following]\n",
            "--2025-04-15 16:04:08--  https://zenodo.org/records/15121997/files/TravelTimes_2024.zip\n",
            "Reusing existing connection to zenodo.org:443.\n",
            "HTTP request sent, awaiting response... 200 OK\n",
            "Length: 1347504983 (1.3G) [application/octet-stream]\n",
            "Saving to: ‘TravelTimes_2024.zip’\n",
            "\n",
            "TravelTimes_2024.zi 100%[===================>]   1.25G  10.6MB/s    in 2m 37s  \n",
            "\n",
            "2025-04-15 16:06:45 (8.18 MB/s) - ‘TravelTimes_2024.zip’ saved [1347504983/1347504983]\n",
            "\n"
          ]
        }
      ],
      "source": [
        "!wget -O TravelTimes_2024.zip \"https://zenodo.org/record/15121997/files/TravelTimes_2024.zip?download=1\""
      ]
    },
    {
      "cell_type": "code",
      "execution_count": 2,
      "metadata": {
        "id": "5rlM_2zf3FCR"
      },
      "outputs": [],
      "source": [
        "import zipfile\n",
        "import fnmatch\n",
        "\n",
        "# Define your pattern\n",
        "pattern = \"TravelTimes_2024/2024-*_LRTravelTimes.csv\"\n",
        "\n",
        "# Open the zip file\n",
        "with zipfile.ZipFile(\"TravelTimes_2024.zip\", \"r\") as zip_ref:\n",
        "    # List all files in the archive\n",
        "    all_files = zip_ref.namelist()\n",
        "\n",
        "    # Filter files that match the pattern\n",
        "    matching_files = [f for f in all_files if fnmatch.fnmatch(f, pattern)]\n",
        "\n",
        "    # Extract only the matching files\n",
        "    for file in matching_files:\n",
        "        zip_ref.extract(file, \"TravelTimes_2024\")"
      ]
    },
    {
      "cell_type": "markdown",
      "metadata": {
        "id": "cHuidMSE7O2l"
      },
      "source": [
        "## Preprocess / Import the Datasets\n",
        "\n",
        "The CSV files to analyze are all located in a directory `\"TravelTimes_2024/TravelTimes_2024/2024-XY_LRTravelTimes.csv\"` where `XY` correspond to a month -- i.e. January is `2024-01_LRTravelTimes.csv`.\n",
        "\n",
        "These files are large -- some are more than a gigabyte. However, it contains data for ALL trains, not just the Green line. Pre-process them via the filesystem."
      ]
    },
    {
      "cell_type": "code",
      "execution_count": 3,
      "metadata": {
        "id": "4zxAsPDYQIM5"
      },
      "outputs": [],
      "source": [
        "%%bash\n",
        "head -n 1 TravelTimes_2024/TravelTimes_2024/2024-01_LRTravelTimes.csv > 2024-01.csv\n",
        "awk -F ',' '$2 ~ /^Green-/' TravelTimes_2024/TravelTimes_2024/2024-01_LRTravelTimes.csv >> 2024-01.csv\n",
        "\n",
        "head -n 1 TravelTimes_2024/TravelTimes_2024/2024-02_LRTravelTimes.csv > 2024-02.csv\n",
        "awk -F ',' '$2 ~ /^Green-/' TravelTimes_2024/TravelTimes_2024/2024-02_LRTravelTimes.csv >> 2024-02.csv\n",
        "\n",
        "head -n 1 TravelTimes_2024/TravelTimes_2024/2024-03_LRTravelTimes.csv > 2024-03.csv\n",
        "awk -F ',' '$2 ~ /^Green-/' TravelTimes_2024/TravelTimes_2024/2024-03_LRTravelTimes.csv >> 2024-03.csv"
      ]
    },
    {
      "cell_type": "code",
      "execution_count": 4,
      "metadata": {
        "id": "QzQG-cbB_s5_"
      },
      "outputs": [],
      "source": [
        "%%bash\n",
        "head -n 1 TravelTimes_2024/TravelTimes_2024/2024-04_LRTravelTimes.csv > 2024-04.csv\n",
        "awk -F ',' '$2 ~ /^Green-/' TravelTimes_2024/TravelTimes_2024/2024-04_LRTravelTimes.csv >> 2024-04.csv\n",
        "\n",
        "head -n 1 TravelTimes_2024/TravelTimes_2024/2024-05_LRTravelTimes.csv > 2024-05.csv\n",
        "awk -F ',' '$2 ~ /^Green-/' TravelTimes_2024/TravelTimes_2024/2024-05_LRTravelTimes.csv >> 2024-05.csv\n",
        "\n",
        "head -n 1 TravelTimes_2024/TravelTimes_2024/2024-06_LRTravelTimes.csv > 2024-06.csv\n",
        "awk -F ',' '$2 ~ /^Green-/' TravelTimes_2024/TravelTimes_2024/2024-06_LRTravelTimes.csv >> 2024-06.csv"
      ]
    },
    {
      "cell_type": "code",
      "execution_count": 5,
      "metadata": {
        "id": "SSCPcOAV_u__"
      },
      "outputs": [],
      "source": [
        "%%bash\n",
        "head -n 1 TravelTimes_2024/TravelTimes_2024/2024-07_LRTravelTimes.csv > 2024-07.csv\n",
        "awk -F ',' '$2 ~ /^Green-/' TravelTimes_2024/TravelTimes_2024/2024-07_LRTravelTimes.csv >> 2024-07.csv\n",
        "\n",
        "head -n 1 TravelTimes_2024/TravelTimes_2024/2024-08_LRTravelTimes.csv > 2024-08.csv\n",
        "awk -F ',' '$2 ~ /^Green-/' TravelTimes_2024/TravelTimes_2024/2024-08_LRTravelTimes.csv >> 2024-08.csv\n",
        "\n",
        "head -n 1 TravelTimes_2024/TravelTimes_2024/2024-09_LRTravelTimes.csv > 2024-09.csv\n",
        "awk -F ',' '$2 ~ /^Green-/' TravelTimes_2024/TravelTimes_2024/2024-09_LRTravelTimes.csv >> 2024-09.csv"
      ]
    },
    {
      "cell_type": "code",
      "execution_count": 6,
      "metadata": {
        "id": "RNWhZ_9q_uvM"
      },
      "outputs": [],
      "source": [
        "%%bash\n",
        "head -n 1 TravelTimes_2024/TravelTimes_2024/2024-10_LRTravelTimes.csv > 2024-10.csv\n",
        "awk -F ',' '$2 ~ /^Green-/' TravelTimes_2024/TravelTimes_2024/2024-10_LRTravelTimes.csv >> 2024-10.csv\n",
        "\n",
        "head -n 1 TravelTimes_2024/TravelTimes_2024/2024-11_LRTravelTimes.csv > 2024-11.csv\n",
        "awk -F ',' '$2 ~ /^Green-/' TravelTimes_2024/TravelTimes_2024/2024-11_LRTravelTimes.csv >> 2024-11.csv\n",
        "\n",
        "head -n 1 TravelTimes_2024/TravelTimes_2024/2024-12_LRTravelTimes.csv > 2024-12.csv\n",
        "awk -F ',' '$2 ~ /^Green-/' TravelTimes_2024/TravelTimes_2024/2024-12_LRTravelTimes.csv >> 2024-12.csv\n"
      ]
    },
    {
      "cell_type": "code",
      "execution_count": 7,
      "metadata": {
        "colab": {
          "base_uri": "https://localhost:8080/"
        },
        "id": "sw3_js78IrxH",
        "outputId": "97420a29-8263-4076-f35e-c15a4ab892bd"
      },
      "outputs": [
        {
          "output_type": "stream",
          "name": "stdout",
          "text": [
            "service_date,route_id,trip_id,direction_id,direction,from_parent_station,from_stop_id,from_stop_name,to_parent_station,to_stop_id,to_stop_name,from_stop_departure_datetime,from_stop_departure_sec,to_stop_arrival_datetime,to_stop_arrival_sec,travel_time_sec\n",
            "2024-01-01,Green-B,60564129,0,West,place-gover,70202,Government Center,place-pktrm,70196,Park Street,2024-01-01T06:09:23Z,22163,2024-01-01T06:11:05Z,22265,102\n",
            "2024-01-01,Green-B,60564129,0,West,place-gover,70202,Government Center,place-boyls,70159,Boylston,2024-01-01T06:09:23Z,22163,2024-01-01T06:13:01Z,22381,218\n",
            "2024-01-01,Green-B,60564129,0,West,place-gover,70202,Government Center,place-armnl,70157,Arlington,2024-01-01T06:09:23Z,22163,2024-01-01T06:15:23Z,22523,360\n",
            "2024-01-01,Green-B,60564129,0,West,place-gover,70202,Government Center,place-coecl,70155,Copley,2024-01-01T06:09:23Z,22163,2024-01-01T06:18:14Z,22694,531\n"
          ]
        }
      ],
      "source": [
        "!head -5 2024-01.csv"
      ]
    },
    {
      "cell_type": "code",
      "execution_count": 8,
      "metadata": {
        "id": "x8ekH0ATQS9J"
      },
      "outputs": [],
      "source": [
        "import pandas as pd\n",
        "\n",
        "# Needed because Pandas keeps reporting that columns 6,9 have mixed datatypes.\n",
        "# Also ensure that the datetime fields are interpreted as datetimes.\n",
        "def loadData(file_name):\n",
        "    df = pd.read_csv(\n",
        "        file_name,\n",
        "        parse_dates=[\"from_stop_departure_datetime\", \"to_stop_arrival_datetime\"],\n",
        "        low_memory=False\n",
        "    )\n",
        "\n",
        "    # Convert stop_id columns safely, replacing non-numeric values with NaN before conversion\n",
        "    df[\"from_stop_id\"] = pd.to_numeric(df[\"from_stop_id\"], errors=\"coerce\").fillna(0).astype(int)\n",
        "    df[\"to_stop_id\"] = pd.to_numeric(df[\"to_stop_id\"], errors=\"coerce\").fillna(0).astype(int)\n",
        "\n",
        "    return df\n",
        "\n",
        "\n",
        "# Helper functions to load each month\n",
        "def loadJan():\n",
        "    return loadData(\"2024-01.csv\")\n",
        "\n",
        "def loadFeb():\n",
        "    return loadData(\"2024-02.csv\")\n",
        "\n",
        "def loadMar():\n",
        "    return loadData(\"2024-03.csv\")\n",
        "\n",
        "def loadApr():\n",
        "    return loadData(\"2024-04.csv\")\n",
        "\n",
        "def loadMay():\n",
        "    return loadData(\"2024-05.csv\")\n",
        "\n",
        "def loadJun():\n",
        "    return loadData(\"2024-06.csv\")\n",
        "\n",
        "def loadJul():\n",
        "    return loadData(\"2024-07.csv\")\n",
        "\n",
        "def loadAug():\n",
        "    return loadData(\"2024-08.csv\")\n",
        "\n",
        "def loadSep():\n",
        "    return loadData(\"2024-09.csv\")\n",
        "\n",
        "def loadOct():\n",
        "    return loadData(\"2024-10.csv\")\n",
        "\n",
        "def loadNov():\n",
        "    return loadData(\"2024-11.csv\")\n",
        "\n",
        "def loadDec():\n",
        "    return loadData(\"2024-12.csv\")\n",
        "\n",
        "# Store function references for easy iteration\n",
        "dataLoadFunctions = [\n",
        "    loadJan, loadFeb, loadMar, loadApr, loadMay, loadJun,\n",
        "    loadJul, loadAug, loadSep, loadOct, loadNov, loadDec\n",
        "]\n",
        "\n",
        "months = [\"January\", \"February\", \"March\", \"April\", \"May\", \"June\",\n",
        "          \"July\", \"August\", \"September\", \"October\", \"November\", \"December\"]"
      ]
    },
    {
      "cell_type": "code",
      "execution_count": 8,
      "metadata": {
        "id": "mWw5rTO-qBkA"
      },
      "outputs": [],
      "source": []
    },
    {
      "cell_type": "markdown",
      "metadata": {
        "id": "rNS1mr_9KSgQ"
      },
      "source": [
        "## RQ1\n",
        "_Does the combination of [*from_stop_departure_datetime*, *from_stop_name*] constitute a pseudo-identifier?_\n",
        "\n",
        "Threat model:\n",
        "* Adversary has/knows:\n",
        "  * Start Station\n",
        "  * Start Time\n",
        "* Adversary hopes to:\n",
        "  * Identify a single record in the data such that other fields may be determined\n",
        "* Efficacy Metric:\n",
        "  * Group records by (startStation, startTime) fields. Report percentage of single-record groups for each month in 2024."
      ]
    },
    {
      "cell_type": "code",
      "source": [
        "import pandas as pd\n",
        "\n",
        "def computeUniqueness(df):\n",
        "  rq1 = df.groupby(['from_stop_departure_datetime', 'from_stop_name']).size().reset_index(name=\"count\")\n",
        "  uniqueRows = ((rq1[\"count\"] == 1) | (rq1[\"count\"] == 2)).sum()\n",
        "  return(uniqueRows / len(df)) * 100\n",
        "\n",
        "def RQ1(df, monthIdx, N):\n",
        "  percentUnique = computeUniqueness(df)\n",
        "\n",
        "  # Collect unique pseudo-identifiers\n",
        "  groups = df.groupby(['from_stop_departure_datetime', 'from_stop_name']).size().reset_index(name='count')\n",
        "  uniqueGroups = groups[(groups['count'] == 1) | (groups['count'] == 2)]\n",
        "\n",
        "  mostPopularGroups = groups.sort_values(by='count', ascending=False).head(N)\n",
        "\n",
        "  return [{\"Month\": months[monthIdx], \"Percent Unique\": percentUnique, \"Combinations\": uniqueGroups.sample(N), \"Popular\": mostPopularGroups.head(N)}]\n"
      ],
      "metadata": {
        "id": "TLWuh7d8IWHK"
      },
      "execution_count": 9,
      "outputs": []
    },
    {
      "cell_type": "code",
      "source": [
        "allResults = []\n",
        "numCombosToOutput = 5\n",
        "\n",
        "for monthIdx, loadFn in enumerate(dataLoadFunctions):\n",
        "  allResults.extend(RQ1(loadFn(), monthIdx, numCombosToOutput))\n",
        "\n",
        "df_results = pd.DataFrame(allResults)"
      ],
      "metadata": {
        "id": "_zNIuQuuI59N"
      },
      "execution_count": 10,
      "outputs": []
    },
    {
      "cell_type": "code",
      "source": [
        "import matplotlib.pyplot as plt\n",
        "\n",
        "# Plot\n",
        "#\n",
        "plt.figure(figsize=(10, 6))\n",
        "plt.plot(df_results[\"Month\"], df_results[\"Percent Unique\"], marker='o')\n",
        "\n",
        "plt.xlabel(\"Month\")\n",
        "plt.ylabel(\"Percentage of Unique Rows\")\n",
        "plt.title(\"[startDateTime, startStation] Uniqueness Percentage (2024)\")\n",
        "plt.xticks(rotation=45)\n",
        "plt.grid(True)\n",
        "plt.show()"
      ],
      "metadata": {
        "colab": {
          "base_uri": "https://localhost:8080/",
          "height": 461
        },
        "id": "I4lC2GueJb5v",
        "outputId": "6a00d0ca-f05e-457a-9059-3e4948d4ea42"
      },
      "execution_count": 11,
      "outputs": [
        {
          "output_type": "display_data",
          "data": {
            "text/plain": [
              "<Figure size 1000x600 with 1 Axes>"
            ],
            "image/png": "[encoded data removed]"
          },
          "metadata": {}
        }
      ]
    },
    {
      "cell_type": "code",
      "source": [
        "# Print out some of the unique combinations for each month\n",
        "#\n",
        "print(f\"Random {numCombosToOutput} Unique Combinations (2024)\")\n",
        "print(\"-\"*50)\n",
        "\n",
        "for index, row in df_results.iterrows():\n",
        "    print(f\"{row['Month']}:\")\n",
        "\n",
        "    # Iterate over the DataFrame stored in the 'Combinations' column\n",
        "    for _, combo_row in row['Combinations'].iterrows():\n",
        "        print(f\" | {combo_row['from_stop_departure_datetime']}, {combo_row['from_stop_name']}\")\n",
        "    print(\" \")"
      ],
      "metadata": {
        "colab": {
          "base_uri": "https://localhost:8080/"
        },
        "id": "Jk8GFEv0K2mP",
        "outputId": "8d44eb7d-27b1-4b68-8b24-467c80cee632"
      },
      "execution_count": 12,
      "outputs": [
        {
          "output_type": "stream",
          "name": "stdout",
          "text": [
            "Random 5 Unique Combinations (2024)\n",
            "--------------------------------------------------\n",
            "January:\n",
            " | 2024-01-02 20:10:24+00:00, Park Street\n",
            " | 2024-01-26 16:14:44+00:00, Magoun Square\n",
            " | 2024-01-05 10:06:28+00:00, Lechmere\n",
            " | 2024-01-20 14:22:22+00:00, Longwood\n",
            " | 2024-01-31 06:40:23+00:00, Ball Square\n",
            " \n",
            "February:\n",
            " | 2024-02-28 16:10:34+00:00, Prudential\n",
            " | 2024-02-12 07:43:35+00:00, Boylston\n",
            " | 2024-02-20 19:20:10+00:00, Reservoir\n",
            " | 2024-02-01 11:30:52+00:00, Magoun Square\n",
            " | 2024-02-23 16:27:33+00:00, Back of the Hill\n",
            " \n",
            "March:\n",
            " | 2024-03-28 18:39:27+00:00, Ball Square\n",
            " | 2024-04-01 00:10:22+00:00, Riverway\n",
            " | 2024-03-10 19:26:34+00:00, Riverway\n",
            " | 2024-03-20 16:11:35+00:00, Magoun Square\n",
            " | 2024-03-31 15:21:05+00:00, Chestnut Hill\n",
            " \n",
            "April:\n",
            " | 2024-04-03 16:07:00+00:00, Ball Square\n",
            " | 2024-04-11 12:32:53+00:00, South Street\n",
            " | 2024-04-27 12:55:41+00:00, Boylston\n",
            " | 2024-04-15 01:26:48+00:00, South Street\n",
            " | 2024-04-07 15:11:50+00:00, Haymarket\n",
            " \n",
            "May:\n",
            " | 2024-05-26 12:05:25+00:00, Brookline Village\n",
            " | 2024-05-03 23:36:26+00:00, South Street\n",
            " | 2024-05-27 17:12:27+00:00, Englewood Avenue\n",
            " | 2024-05-18 10:19:47+00:00, Park Street\n",
            " | 2024-05-24 10:31:38+00:00, Lechmere\n",
            " \n",
            "June:\n",
            " | 2024-06-28 15:34:05+00:00, Chestnut Hill Avenue\n",
            " | 2024-06-23 14:25:14+00:00, Arlington\n",
            " | 2024-06-28 22:34:49+00:00, Kenmore\n",
            " | 2024-06-24 20:44:53+00:00, Park Street\n",
            " | 2024-06-06 21:29:09+00:00, Boylston\n",
            " \n",
            "July:\n",
            " | 2024-07-30 07:17:15+00:00, South Street\n",
            " | 2024-07-28 01:09:24+00:00, Chestnut Hill Avenue\n",
            " | 2024-07-06 18:42:20+00:00, Woodland\n",
            " | 2024-07-11 00:02:22+00:00, Brookline Hills\n",
            " | 2024-07-18 19:53:02+00:00, Eliot\n",
            " \n",
            "August:\n",
            " | 2024-08-20 01:55:01+00:00, Kenmore\n",
            " | 2024-08-14 21:04:15+00:00, Back of the Hill\n",
            " | 2024-08-11 16:40:15+00:00, Longwood\n",
            " | 2024-08-14 19:05:58+00:00, Back of the Hill\n",
            " | 2024-08-19 21:00:58+00:00, Hawes Street\n",
            " \n",
            "September:\n",
            " | 2024-09-02 00:32:42+00:00, Boylston\n",
            " | 2024-09-29 00:31:10+00:00, East Somerville\n",
            " | 2024-09-16 09:56:11+00:00, Riverway\n",
            " | 2024-09-30 01:31:38+00:00, Gilman Square\n",
            " | 2024-09-21 18:04:00+00:00, Dean Road\n",
            " \n",
            "October:\n",
            " | 2024-10-16 15:01:10+00:00, Science Park/West End\n",
            " | 2024-10-23 22:06:56+00:00, Lechmere\n",
            " | 2024-10-10 17:40:46+00:00, Arlington\n",
            " | 2024-10-20 22:26:28+00:00, Boylston\n",
            " | 2024-10-23 13:31:38+00:00, Magoun Square\n",
            " \n",
            "November:\n",
            " | 2024-11-21 21:57:58+00:00, Englewood Avenue\n",
            " | 2024-11-26 21:23:31+00:00, Chestnut Hill Avenue\n",
            " | 2024-11-20 13:40:27+00:00, Woodland\n",
            " | 2024-11-19 00:50:34+00:00, Waban\n",
            " | 2024-11-04 05:47:06+00:00, Longwood\n",
            " \n",
            "December:\n",
            " | 2024-12-11 17:19:11+00:00, Back of the Hill\n",
            " | 2024-12-07 15:25:06+00:00, Woodland\n",
            " | 2024-12-13 09:10:05+00:00, Saint Mary's Street\n",
            " | 2024-12-03 22:15:27+00:00, Boylston\n",
            " | 2024-12-28 15:28:45+00:00, Back of the Hill\n",
            " \n"
          ]
        }
      ]
    },
    {
      "cell_type": "code",
      "source": [
        "# Print out some of the unique combinations for each month\n",
        "#\n",
        "print(f\"Top {numCombosToOutput} Most Common Combinations (2024)\")\n",
        "print(\"-\"*50)\n",
        "\n",
        "for index, row in df_results.iterrows():\n",
        "    print(f\"{row['Month']}:\")\n",
        "\n",
        "    # Iterate over the DataFrame stored in the 'Combinations' column\n",
        "    for _, combo_row in row['Popular'].iterrows():\n",
        "        print(f\" | {combo_row['count']} : {combo_row['from_stop_departure_datetime']}, {combo_row['from_stop_name']}\")\n",
        "    print(\" \")"
      ],
      "metadata": {
        "colab": {
          "base_uri": "https://localhost:8080/"
        },
        "id": "fbNsWuB1LNRE",
        "outputId": "4f67ecca-fedb-45d7-de0d-5449359126d8"
      },
      "execution_count": 13,
      "outputs": [
        {
          "output_type": "stream",
          "name": "stdout",
          "text": [
            "Top 5 Most Common Combinations (2024)\n",
            "--------------------------------------------------\n",
            "January:\n",
            " | 39 : 2024-01-02 00:16:29+00:00, Park Street\n",
            " | 36 : 2024-01-02 21:12:14+00:00, Park Street\n",
            " | 36 : 2024-01-02 06:57:40+00:00, Riverside\n",
            " | 31 : 2024-01-30 19:23:34+00:00, Government Center\n",
            " | 31 : 2024-01-02 17:45:57+00:00, Boylston\n",
            " \n",
            "February:\n",
            " | 42 : 2024-02-12 13:37:17+00:00, Lechmere\n",
            " | 39 : 2024-02-07 21:31:24+00:00, Park Street\n",
            " | 37 : 2024-02-06 11:00:52+00:00, Riverside\n",
            " | 36 : 2024-02-10 11:21:52+00:00, Riverside\n",
            " | 35 : 2024-02-09 10:36:04+00:00, Park Street\n",
            " \n",
            "March:\n",
            " | 39 : 2024-03-11 10:01:52+00:00, Park Street\n",
            " | 37 : 2024-03-20 08:34:02+00:00, Riverside\n",
            " | 36 : 2024-03-10 09:47:41+00:00, South Street\n",
            " | 35 : 2024-03-20 08:35:38+00:00, Woodland\n",
            " | 34 : 2024-03-10 17:59:08+00:00, South Street\n",
            " \n",
            "April:\n",
            " | 36 : 2024-04-23 11:58:26+00:00, Park Street\n",
            " | 36 : 2024-04-25 12:29:56+00:00, Park Street\n",
            " | 35 : 2024-04-20 18:12:01+00:00, Park Street\n",
            " | 35 : 2024-04-13 11:17:29+00:00, South Street\n",
            " | 35 : 2024-04-23 11:04:33+00:00, Park Street\n",
            " \n",
            "May:\n",
            " | 37 : 2024-05-29 18:12:42+00:00, Boston College\n",
            " | 37 : 2024-05-09 13:11:26+00:00, Boston College\n",
            " | 35 : 2024-05-14 14:05:14+00:00, Park Street\n",
            " | 35 : 2024-05-29 19:54:53+00:00, Boston College\n",
            " | 35 : 2024-05-16 19:38:37+00:00, South Street\n",
            " \n",
            "June:\n",
            " | 43 : 2024-06-03 07:14:09+00:00, North Station\n",
            " | 39 : 2024-06-04 08:34:57+00:00, Park Street\n",
            " | 37 : 2024-06-13 11:18:00+00:00, Boston College\n",
            " | 36 : 2024-06-23 05:45:47+00:00, South Street\n",
            " | 35 : 2024-06-22 21:43:17+00:00, Park Street\n",
            " \n",
            "July:\n",
            " | 42 : 2024-07-10 09:05:17+00:00, Lechmere\n",
            " | 39 : 2024-07-30 06:11:42+00:00, Park Street\n",
            " | 39 : 2024-07-24 14:44:04+00:00, Park Street\n",
            " | 39 : 2024-07-18 18:15:41+00:00, Park Street\n",
            " | 39 : 2024-07-18 10:40:14+00:00, Park Street\n",
            " \n",
            "August:\n",
            " | 39 : 2024-08-29 17:33:28+00:00, Park Street\n",
            " | 39 : 2024-08-23 23:10:00+00:00, Park Street\n",
            " | 39 : 2024-08-15 07:08:31+00:00, Park Street\n",
            " | 39 : 2024-08-12 06:13:11+00:00, Park Street\n",
            " | 39 : 2024-08-24 16:39:03+00:00, Park Street\n",
            " \n",
            "September:\n",
            " | 39 : 2024-09-03 15:29:07+00:00, Park Street\n",
            " | 35 : 2024-09-15 15:16:50+00:00, Woodland\n",
            " | 35 : 2024-09-26 14:51:52+00:00, South Street\n",
            " | 35 : 2024-09-19 12:05:05+00:00, Park Street\n",
            " | 34 : 2024-09-10 15:35:51+00:00, Woodland\n",
            " \n",
            "October:\n",
            " | 41 : 2024-10-11 11:16:29+00:00, Boston College\n",
            " | 38 : 2024-10-22 11:11:09+00:00, Park Street\n",
            " | 36 : 2024-10-22 07:15:47+00:00, Riverside\n",
            " | 36 : 2024-10-30 13:22:24+00:00, Park Street\n",
            " | 36 : 2024-10-19 14:48:52+00:00, Park Street\n",
            " \n",
            "November:\n",
            " | 39 : 2024-11-14 11:04:00+00:00, Chestnut Hill Avenue\n",
            " | 39 : 2024-11-24 13:38:28+00:00, Park Street\n",
            " | 37 : 2024-11-07 21:43:58+00:00, Riverside\n",
            " | 37 : 2024-11-29 06:27:18+00:00, Riverside\n",
            " | 36 : 2024-11-12 06:55:54+00:00, Park Street\n",
            " \n",
            "December:\n",
            " | 36 : 2024-12-03 17:33:12+00:00, Park Street\n",
            " | 32 : 2024-12-26 17:45:53+00:00, Park Street\n",
            " | 31 : 2024-12-28 00:05:52+00:00, Boylston\n",
            " | 31 : 2024-12-24 09:07:17+00:00, Arlington\n",
            " | 31 : 2024-12-24 07:08:53+00:00, Boylston\n",
            " \n"
          ]
        }
      ]
    },
    {
      "cell_type": "markdown",
      "metadata": {
        "id": "NsXmrif7Hf65"
      },
      "source": [
        "### Takeaways\n",
        "The above plot reveals that the percentage of unique rides (given the starting station and time) is around 1-2% across much of 2024. This is a very low uniqueness percentage, which implies that this combination of fields does not strongly constitute a pseudo-identifier.\n",
        "\n",
        "Note that there appear to be dozens of trains at a given station at the most common times. I'm not sure why this is..."
      ]
    },
    {
      "cell_type": "markdown",
      "metadata": {
        "id": "DuTxEgMvKxx4"
      },
      "source": [
        "## RQ2\n",
        "_Does the combination of [*from_stop_departure_datetime*, *from_stop_name*, *direction*] constitute a pseudo-identifier?_\n",
        "\n",
        "Threat model:\n",
        "* Adversary has/knows:\n",
        "  * Start Station\n",
        "  * Start Time\n",
        "  * Direction (East/West)\n",
        "* Adversary hopes to:\n",
        "  * Identify a single record in the data such that other fields may be determined\n",
        "* Efficacy Metric:\n",
        "  * Group records by (startStation, startTime, direction) fields. Report percentage of single-record groups for each month in 2024."
      ]
    },
    {
      "cell_type": "code",
      "source": [
        "import pandas as pd\n",
        "\n",
        "def computeUniquenes2(df):\n",
        "  rq1 = df.groupby(['from_stop_departure_datetime', 'from_stop_name', 'direction']).size().reset_index(name=\"count\")\n",
        "  uniqueRows = ((rq1[\"count\"] == 1) | (rq1[\"count\"] == 2)).sum()\n",
        "  return(uniqueRows / len(df)) * 100\n",
        "\n",
        "def RQ2(df, monthIdx, N):\n",
        "  percentUnique = computeUniqueness(df)\n",
        "\n",
        "  # Collect unique pseudo-identifiers\n",
        "  groups = df.groupby(['from_stop_departure_datetime', 'from_stop_name', 'direction']).size().reset_index(name='count')\n",
        "  uniqueGroups = groups[(groups['count'] == 1) | (groups['count'] == 2)]\n",
        "\n",
        "  mostPopularGroups = groups.sort_values(by='count', ascending=False).head(N)\n",
        "\n",
        "  return [{\"Month\": months[monthIdx], \"Percent Unique\": percentUnique, \"Combinations\": uniqueGroups.sample(N), \"Popular\": mostPopularGroups.head(N)}]\n"
      ],
      "metadata": {
        "id": "G8Q2IUp7LwRj"
      },
      "execution_count": 14,
      "outputs": []
    },
    {
      "cell_type": "code",
      "source": [
        "allResults2 = []\n",
        "numCombosToOutput = 5\n",
        "\n",
        "for monthIdx, loadFn in enumerate(dataLoadFunctions):\n",
        "  allResults2.extend(RQ2(loadFn(), monthIdx, numCombosToOutput))\n",
        "\n",
        "df_results2 = pd.DataFrame(allResults2)"
      ],
      "metadata": {
        "id": "g8MFV7ujL3vJ"
      },
      "execution_count": 15,
      "outputs": []
    },
    {
      "cell_type": "code",
      "source": [
        "import matplotlib.pyplot as plt\n",
        "\n",
        "# Plot\n",
        "#\n",
        "plt.figure(figsize=(10, 6))\n",
        "plt.plot(df_results2[\"Month\"], df_results2[\"Percent Unique\"], marker='o')\n",
        "\n",
        "plt.xlabel(\"Month\")\n",
        "plt.ylabel(\"Percentage of Unique Rows\")\n",
        "plt.title(\"[startDateTime, startStation] Uniqueness Percentage (2024)\")\n",
        "plt.xticks(rotation=45)\n",
        "plt.grid(True)\n",
        "plt.show()"
      ],
      "metadata": {
        "colab": {
          "base_uri": "https://localhost:8080/",
          "height": 461
        },
        "id": "aUw1FZSNL6OI",
        "outputId": "6b89f0a6-1e9d-49b5-ae45-a2cf6f9d3302"
      },
      "execution_count": 16,
      "outputs": [
        {
          "output_type": "display_data",
          "data": {
            "text/plain": [
              "<Figure size 1000x600 with 1 Axes>"
            ],
            "image/png": "[encoded data removed]"
          },
          "metadata": {}
        }
      ]
    },
    {
      "cell_type": "code",
      "source": [
        "# Print out some of the unique combinations for each month\n",
        "#\n",
        "print(f\"Random {numCombosToOutput} Unique Combinations (2024)\")\n",
        "print(\"-\"*50)\n",
        "\n",
        "for index, row in df_results2.iterrows():\n",
        "    print(f\"{row['Month']}:\")\n",
        "\n",
        "    # Iterate over the DataFrame stored in the 'Combinations' column\n",
        "    for _, combo_row in row['Combinations'].iterrows():\n",
        "        print(f\" | {combo_row['from_stop_departure_datetime']}, {combo_row['from_stop_name']}, {combo_row['direction']}\")\n",
        "    print(\" \")"
      ],
      "metadata": {
        "colab": {
          "base_uri": "https://localhost:8080/"
        },
        "id": "k3JX0CK6L8PG",
        "outputId": "fca4eae0-46fb-4004-a98d-f716e04a0ba9"
      },
      "execution_count": 17,
      "outputs": [
        {
          "output_type": "stream",
          "name": "stdout",
          "text": [
            "Random 5 Unique Combinations (2024)\n",
            "--------------------------------------------------\n",
            "January:\n",
            " | 2024-01-08 13:31:28+00:00, Chestnut Hill Avenue, West\n",
            " | 2024-01-01 20:47:21+00:00, North Station, West\n",
            " | 2024-01-05 09:50:20+00:00, Dean Road, West\n",
            " | 2024-01-29 13:47:39+00:00, Boylston, East\n",
            " | 2024-01-02 23:07:53+00:00, Boylston, East\n",
            " \n",
            "February:\n",
            " | 2024-02-05 19:41:32+00:00, Arlington, East\n",
            " | 2024-02-22 22:23:31+00:00, Ball Square, East\n",
            " | 2024-02-08 09:17:03+00:00, Boylston, East\n",
            " | 2024-02-02 19:06:28+00:00, Boylston, East\n",
            " | 2024-02-23 05:35:23+00:00, Ball Square, East\n",
            " \n",
            "March:\n",
            " | 2024-03-25 17:55:49+00:00, Gilman Square, East\n",
            " | 2024-03-24 09:11:17+00:00, Dean Road, West\n",
            " | 2024-03-13 13:34:48+00:00, Lechmere, East\n",
            " | 2024-03-20 11:11:38+00:00, Boylston, East\n",
            " | 2024-03-23 12:03:20+00:00, Chestnut Hill Avenue, West\n",
            " \n",
            "April:\n",
            " | 2024-04-02 23:10:28+00:00, Riverway, West\n",
            " | 2024-04-11 19:28:16+00:00, Magoun Square, East\n",
            " | 2024-04-07 12:48:24+00:00, South Street, West\n",
            " | 2024-04-10 23:11:25+00:00, Dean Road, West\n",
            " | 2024-04-30 07:10:52+00:00, Ball Square, East\n",
            " \n",
            "May:\n",
            " | 2024-05-31 06:45:37+00:00, Back of the Hill, West\n",
            " | 2024-05-06 21:40:03+00:00, Back of the Hill, West\n",
            " | 2024-05-07 23:30:14+00:00, Ball Square, East\n",
            " | 2024-05-28 10:45:05+00:00, Lechmere, West\n",
            " | 2024-05-14 17:35:24+00:00, Government Center, East\n",
            " \n",
            "June:\n",
            " | 2024-06-15 20:48:54+00:00, Longwood, East\n",
            " | 2024-06-25 06:23:31+00:00, Hynes Convention Center, East\n",
            " | 2024-06-09 15:31:33+00:00, Magoun Square, East\n",
            " | 2024-06-19 23:53:45+00:00, Woodland, West\n",
            " | 2024-06-20 18:35:42+00:00, Boylston, East\n",
            " \n",
            "July:\n",
            " | 2024-07-20 17:31:29+00:00, Chestnut Hill Avenue, West\n",
            " | 2024-07-11 20:45:59+00:00, Park Street, East\n",
            " | 2024-07-02 06:21:59+00:00, East Somerville, East\n",
            " | 2024-07-01 07:22:51+00:00, Magoun Square, East\n",
            " | 2024-07-20 16:44:50+00:00, Kenmore, East\n",
            " \n",
            "August:\n",
            " | 2024-08-11 10:48:17+00:00, Riverway, West\n",
            " | 2024-08-06 06:50:16+00:00, Magoun Square, East\n",
            " | 2024-08-18 11:59:06+00:00, Haymarket, West\n",
            " | 2024-08-14 08:57:53+00:00, Hynes Convention Center, East\n",
            " | 2024-08-23 09:44:30+00:00, Boylston, East\n",
            " \n",
            "September:\n",
            " | 2024-09-05 13:10:38+00:00, Longwood, East\n",
            " | 2024-09-02 07:16:18+00:00, Riverway, West\n",
            " | 2024-09-24 21:23:34+00:00, Park Street, East\n",
            " | 2024-09-12 10:25:08+00:00, Riverside, East\n",
            " | 2024-09-15 19:36:17+00:00, Ball Square, East\n",
            " \n",
            "October:\n",
            " | 2024-10-07 20:52:39+00:00, Englewood Avenue, West\n",
            " | 2024-10-31 19:31:35+00:00, Boylston, East\n",
            " | 2024-10-10 17:04:45+00:00, Saint Mary's Street, East\n",
            " | 2024-10-23 15:38:09+00:00, South Street, West\n",
            " | 2024-10-27 13:26:57+00:00, Haymarket, East\n",
            " \n",
            "November:\n",
            " | 2024-11-13 07:36:58+00:00, Englewood Avenue, West\n",
            " | 2024-11-30 20:38:52+00:00, Ball Square, East\n",
            " | 2024-11-14 23:50:48+00:00, Park Street, East\n",
            " | 2024-11-22 09:51:38+00:00, Englewood Avenue, West\n",
            " | 2024-11-15 09:04:49+00:00, Haymarket, East\n",
            " \n",
            "December:\n",
            " | 2024-12-05 12:15:17+00:00, Magoun Square, East\n",
            " | 2024-12-04 17:48:52+00:00, Waban, West\n",
            " | 2024-12-23 11:13:11+00:00, Government Center, East\n",
            " | 2024-12-02 19:54:36+00:00, Lechmere, East\n",
            " | 2024-12-09 21:54:30+00:00, Arlington, East\n",
            " \n"
          ]
        }
      ]
    },
    {
      "cell_type": "code",
      "source": [
        "# Print out some of the unique combinations for each month\n",
        "#\n",
        "print(f\"Top {numCombosToOutput} Most Common Combinations (2024)\")\n",
        "print(\"-\"*50)\n",
        "\n",
        "for index, row in df_results2.iterrows():\n",
        "    print(f\"{row['Month']}:\")\n",
        "\n",
        "    # Iterate over the DataFrame stored in the 'Combinations' column\n",
        "    for _, combo_row in row['Popular'].iterrows():\n",
        "        print(f\" | {combo_row['count']} : {combo_row['from_stop_departure_datetime']}, {combo_row['from_stop_name']}, {combo_row['direction']}\")\n",
        "    print(\" \")"
      ],
      "metadata": {
        "colab": {
          "base_uri": "https://localhost:8080/"
        },
        "id": "FQrpgRTGMAN2",
        "outputId": "9d1c77e5-114b-4513-d501-4face7eed4d9"
      },
      "execution_count": 18,
      "outputs": [
        {
          "output_type": "stream",
          "name": "stdout",
          "text": [
            "Top 5 Most Common Combinations (2024)\n",
            "--------------------------------------------------\n",
            "January:\n",
            " | 39 : 2024-01-02 00:16:29+00:00, Park Street, West\n",
            " | 36 : 2024-01-02 06:57:40+00:00, Riverside, East\n",
            " | 36 : 2024-01-02 21:12:14+00:00, Park Street, West\n",
            " | 31 : 2024-01-01 16:14:08+00:00, Eliot, East\n",
            " | 31 : 2024-01-01 05:45:19+00:00, Boston College, East\n",
            " \n",
            "February:\n",
            " | 42 : 2024-02-12 13:37:17+00:00, Lechmere, West\n",
            " | 39 : 2024-02-07 21:31:24+00:00, Park Street, West\n",
            " | 37 : 2024-02-06 11:00:52+00:00, Riverside, East\n",
            " | 36 : 2024-02-10 11:21:52+00:00, Riverside, East\n",
            " | 35 : 2024-02-09 10:36:04+00:00, Park Street, West\n",
            " \n",
            "March:\n",
            " | 39 : 2024-03-11 10:01:52+00:00, Park Street, West\n",
            " | 37 : 2024-03-20 08:34:02+00:00, Riverside, East\n",
            " | 36 : 2024-03-10 09:47:41+00:00, South Street, East\n",
            " | 35 : 2024-03-20 08:35:38+00:00, Woodland, East\n",
            " | 34 : 2024-03-30 10:53:01+00:00, Woodland, East\n",
            " \n",
            "April:\n",
            " | 36 : 2024-04-23 11:58:26+00:00, Park Street, West\n",
            " | 36 : 2024-04-25 12:29:56+00:00, Park Street, West\n",
            " | 35 : 2024-04-13 11:17:29+00:00, South Street, East\n",
            " | 35 : 2024-04-19 10:50:57+00:00, Park Street, West\n",
            " | 35 : 2024-04-20 18:12:01+00:00, Park Street, West\n",
            " \n",
            "May:\n",
            " | 37 : 2024-05-09 13:11:26+00:00, Boston College, East\n",
            " | 37 : 2024-05-29 18:12:42+00:00, Boston College, East\n",
            " | 35 : 2024-05-18 23:19:08+00:00, Park Street, West\n",
            " | 35 : 2024-05-29 05:49:48+00:00, Boston College, East\n",
            " | 35 : 2024-05-14 14:05:14+00:00, Park Street, West\n",
            " \n",
            "June:\n",
            " | 39 : 2024-06-04 08:34:57+00:00, Park Street, West\n",
            " | 37 : 2024-06-13 11:18:00+00:00, Boston College, East\n",
            " | 36 : 2024-06-23 05:45:47+00:00, South Street, East\n",
            " | 35 : 2024-06-22 21:43:17+00:00, Park Street, West\n",
            " | 34 : 2024-06-06 20:12:49+00:00, Woodland, East\n",
            " \n",
            "July:\n",
            " | 39 : 2024-07-30 06:11:42+00:00, Park Street, West\n",
            " | 39 : 2024-07-18 18:15:41+00:00, Park Street, West\n",
            " | 39 : 2024-07-19 11:02:10+00:00, Park Street, West\n",
            " | 39 : 2024-07-24 14:44:04+00:00, Park Street, West\n",
            " | 39 : 2024-07-18 10:40:14+00:00, Park Street, West\n",
            " \n",
            "August:\n",
            " | 39 : 2024-08-12 06:13:11+00:00, Park Street, West\n",
            " | 39 : 2024-08-15 07:08:31+00:00, Park Street, West\n",
            " | 39 : 2024-08-23 23:10:00+00:00, Park Street, West\n",
            " | 39 : 2024-08-24 16:39:03+00:00, Park Street, West\n",
            " | 39 : 2024-08-29 17:33:28+00:00, Park Street, West\n",
            " \n",
            "September:\n",
            " | 39 : 2024-09-03 15:29:07+00:00, Park Street, West\n",
            " | 35 : 2024-09-15 15:16:50+00:00, Woodland, East\n",
            " | 35 : 2024-09-19 12:05:05+00:00, Park Street, West\n",
            " | 35 : 2024-09-26 14:51:52+00:00, South Street, East\n",
            " | 34 : 2024-09-10 15:35:51+00:00, Woodland, East\n",
            " \n",
            "October:\n",
            " | 41 : 2024-10-11 11:16:29+00:00, Boston College, East\n",
            " | 38 : 2024-10-22 11:11:09+00:00, Park Street, West\n",
            " | 36 : 2024-10-30 13:22:24+00:00, Park Street, West\n",
            " | 36 : 2024-10-22 07:15:47+00:00, Riverside, East\n",
            " | 35 : 2024-10-17 08:12:19+00:00, Heath Street, East\n",
            " \n",
            "November:\n",
            " | 39 : 2024-11-24 13:38:28+00:00, Park Street, West\n",
            " | 39 : 2024-11-14 11:04:00+00:00, Chestnut Hill Avenue, East\n",
            " | 37 : 2024-11-29 06:27:18+00:00, Riverside, East\n",
            " | 37 : 2024-11-07 21:43:58+00:00, Riverside, East\n",
            " | 36 : 2024-11-12 06:55:54+00:00, Park Street, West\n",
            " \n",
            "December:\n",
            " | 36 : 2024-12-03 17:33:12+00:00, Park Street, West\n",
            " | 32 : 2024-12-26 17:45:53+00:00, Park Street, West\n",
            " | 31 : 2024-12-21 05:20:02+00:00, Boston College, East\n",
            " | 31 : 2024-12-25 05:45:38+00:00, Boston College, East\n",
            " | 31 : 2024-12-23 06:32:44+00:00, South Street, East\n",
            " \n"
          ]
        }
      ]
    },
    {
      "cell_type": "markdown",
      "metadata": {
        "id": "yc9XzjcQgFJz"
      },
      "source": [
        "### Takeaways\n",
        "\n",
        "Including the direction field does not appear to significantly modify the uniqueness percentage. This suggests that direction is not a signficiant factor in the dataset, and if an adversary knew the combination of startStation, startTime, and direction, it would be difficult to identify the ride within the dataset."
      ]
    },
    {
      "cell_type": "markdown",
      "metadata": {
        "id": "0yF3ZIOGD9he"
      },
      "source": [
        "## MassTrack Mapping\n",
        "To demonstrate the risks associated with this dataset, here the MassTrack system is implemented.\n",
        "\n",
        "Given a start station, a start timestamp, and time spent in transit, the MassTrack system outputs a possible transit path for that ride. This is done by iteratively finding origin/destination rows and keeping track of the transit time.\n",
        "\n",
        "The origin row has a pair `from_stop_name, to_stop_name`. The destination row also has these fields. A match is found when the origin's `to_stop_name` matches the destination's `from_stop_name`, the destination's `from_stop_departure_datetime` comes after the origin's `to_stop_arrival_datetime`, and the two rows' `direction` fields are the same.\n",
        "\n",
        "\n",
        "Additionally, consider transfer nodes. From the Revised Project Proposal:\n",
        "\n",
        "> So-called “Transfer Nodes” will represent stations at which a rider is likely to transfer to a different train, as opposed to staying on the train they are already on. This would occur when a rider needs to change directions or lines, i.e. someone travelling from BU East on the B line to Waban on the D line would likely transfer at Kenmore.\n",
        "\n",
        "> Transfer Nodes:\n",
        ">\n",
        "> * Kenmore\n",
        "> * Copley\n",
        "> * Government Center\n",
        "> * Lechmere\n",
        "\n",
        "When a train departs a transfer node, the following branching logic is executed:\n",
        "\n",
        "* If Kenmore and direction is West:\n",
        " - Start four iterations. Each will be one of `route_id = [Green-B, Green-C, Green-D , Green-E]`\n",
        "\n",
        "* If Copley and direction is West:\n",
        " - Start two iterations. Each will be one of `route_id = [Green-E,  NOT Green-E]`\n",
        "\n",
        "* If Government Center and direction is East:\n",
        " - Start two iterations. Each will be one of `route_id = [Green-D, Green-E]`\n",
        "\n",
        "* If Lechmere and direction is East:\n",
        " - Start two iterations. Each will be one of `route_id = [Green-D, Green-E]`"
      ]
    },
    {
      "cell_type": "code",
      "execution_count": 25,
      "metadata": {
        "id": "fsNc4TMuD8I8"
      },
      "outputs": [],
      "source": [
        "import pandas as pd\n",
        "\n",
        "TRANSFER_NODES = {\n",
        "    \"Kenmore\": {\"West\": [\"Green-B\", \"Green-C\", \"Green-D\", \"Green-E\"]},\n",
        "    \"Copley\": {\"West\": [\"Green-E\", \"EXCLUDE Green-E\"]},\n",
        "    \"Government Center\": {\"East\": [\"Green-D\", \"Green-E\"]},\n",
        "    \"Lechmere\": {\"East\": [\"Green-D\", \"Green-E\"]}\n",
        "}\n",
        "\n",
        "def traceRide(df, startTime, startStation, timeInTransit):\n",
        "    # Ensure start_time is datetime\n",
        "    startTime = pd.to_datetime(startTime)\n",
        "    remainingTime = timeInTransit\n",
        "\n",
        "    # Sort by departure time\n",
        "    df_sorted = df.sort_values(\"from_stop_departure_datetime\")\n",
        "\n",
        "    # Step 1: Find the closest matching record for the given start time and start station\n",
        "    #\n",
        "    df_sameStartStation = df_sorted[df_sorted[\"from_stop_name\"] == startStation]\n",
        "\n",
        "    if df_sameStartStation.empty:\n",
        "        print(\"No matching start record found.\")\n",
        "        return []\n",
        "\n",
        "    # Find the closest departure time\n",
        "    closestIdx = (df_sameStartStation[\"from_stop_departure_datetime\"] - startTime).abs().idxmin()\n",
        "    closestMatch = df_sameStartStation.loc[closestIdx]\n",
        "\n",
        "    # Round timestamps to the nearest minute before performing the calculation\n",
        "    roundedArrival = closestMatch[\"to_stop_arrival_datetime\"].round(\"min\")\n",
        "    roundedStart = startTime.round(\"min\")\n",
        "\n",
        "    # Compute the time difference using the rounded timestamps\n",
        "    timeDiff = (roundedArrival - roundedStart).total_seconds() / 60  # Convert to minutes\n",
        "\n",
        "    if timeDiff > remainingTime:\n",
        "        print(f\"traceRide: Next stop at ({closestMatch['to_stop_name']}, {closestMatch['to_stop_arrival_datetime']}) exceeds time limit.\")\n",
        "        return []  # Stop tracking if it's beyond the allowed transit time\n",
        "\n",
        "    ridePath = [(closestMatch[\"to_stop_name\"], closestMatch[\"to_stop_arrival_datetime\"])]\n",
        "    trainDirection = closestMatch[\"direction\"]\n",
        "    routeId = closestMatch[\"route_id\"]\n",
        "    remainingTime -= timeDiff\n",
        "\n",
        "    while remainingTime > 0:\n",
        "        # Check if the current stop is a transfer node\n",
        "        #\n",
        "        if closestMatch[\"to_stop_name\"] in TRANSFER_NODES:\n",
        "            transferPaths = TRANSFER_NODES[closestMatch[\"to_stop_name\"]].get(trainDirection, [])\n",
        "\n",
        "            # If transfer options exist, create multiple iterations\n",
        "            if transferPaths:\n",
        "                print(f\"Possible transfer at {closestMatch['to_stop_name']} - Splitting into {len(transferPaths)} paths.\")\n",
        "                paths = []\n",
        "\n",
        "                for new_route in transferPaths:\n",
        "                    if new_route == \"EXCLUDE Green-E\":\n",
        "                        filtered_df = df_sorted[df_sorted[\"route_id\"] != \"Green-E\"]  # Exclude Green-E\n",
        "                    else:\n",
        "                        filtered_df = df_sorted[df_sorted[\"route_id\"] == new_route]  # Follow specific route\n",
        "\n",
        "                    # Recurse\n",
        "                    paths.append(traceRide(filtered_df, closestMatch[\"to_stop_arrival_datetime\"], closestMatch[\"to_stop_name\"], remainingTime))\n",
        "\n",
        "                return paths\n",
        "\n",
        "        # Step 2: Find the next record where:\n",
        "        # - The previous to_stop_name matches the next from_stop_name\n",
        "        # - The next from_stop_departure_datetime comes AFTER the previous to_stop_arrival_datetime\n",
        "        # - The direction is the same\n",
        "        # - The route (B/C/D/E) remains the same\n",
        "        # - The trip ID is the same\n",
        "        #\n",
        "        next_record = df_sorted[\n",
        "            (closestMatch[\"to_stop_name\"] == df_sorted[\"from_stop_name\"]) &\n",
        "            (closestMatch[\"to_stop_arrival_datetime\"] < df_sorted[\"from_stop_departure_datetime\"]) &\n",
        "            (trainDirection == df_sorted[\"direction\"]) &\n",
        "            (routeId == df_sorted[\"route_id\"]) &\n",
        "            (closestMatch[\"trip_id\"] == df_sorted[\"trip_id\"])\n",
        "        ]\n",
        "\n",
        "        if next_record.empty:\n",
        "            print(\"traceRide: No further connections found.\")\n",
        "            break  # Exit when no next stop is available\n",
        "\n",
        "        # Select the first matching row (closest departure after previous arrival)\n",
        "        closestMatch = next_record.iloc[0]\n",
        "\n",
        "        # Round timestamps to the nearest minute before performing the calculation\n",
        "        roundedArrival = closestMatch[\"to_stop_arrival_datetime\"].round(\"min\")\n",
        "        latestTimestamp = ridePath[-1][1].round(\"min\")\n",
        "\n",
        "        # Compute the time difference using the rounded timestamps\n",
        "        timeDiff = round((roundedArrival - latestTimestamp).total_seconds() / 60)  # Convert to minutes\n",
        "\n",
        "        if timeDiff > remainingTime:\n",
        "            print(f\"traceRide: Next stop at ({closestMatch['to_stop_name']}, {closestMatch['to_stop_arrival_datetime']}) exceeds time limit {timeDiff}/{remainingTime}.\")\n",
        "            return ridePath  # Stop tracking if it's beyond the allowed transit time\n",
        "\n",
        "        # Step 3: Subtract trip duration (`travel_time_sec`)\n",
        "        #\n",
        "        remainingTime -= timeDiff\n",
        "\n",
        "        # Step 4: Add to transit path and continue, storing formatted time\n",
        "        #\n",
        "        ridePath.append((closestMatch[\"to_stop_name\"], closestMatch[\"to_stop_arrival_datetime\"]))\n",
        "\n",
        "    return ridePath\n"
      ]
    },
    {
      "cell_type": "code",
      "execution_count": 20,
      "metadata": {
        "id": "NsuFqmDdEKJA"
      },
      "outputs": [],
      "source": [
        "def isNested(lst):\n",
        "    return any(isinstance(i, list) for i in lst)\n",
        "\n",
        "def MassTrack(startTime, startStation, timeInTransit):\n",
        "\n",
        "  # Convert start_time to datetime for consistency\n",
        "  startTime = pd.to_datetime(startTime)\n",
        "\n",
        "  # Extract the month from the startTime, load the correct month's data\n",
        "  df = dataLoadFunctions[startTime.month  - 1]()\n",
        "\n",
        "  # Validate dataset structure\n",
        "  if df.empty:\n",
        "      print(\"Error: Dataset could not be loaded or is empty.\")\n",
        "\n",
        "  # Ensure required columns exist\n",
        "  reqCol = {\"from_stop_departure_datetime\", \"from_stop_name\", \"to_stop_name\", \"to_stop_arrival_datetime\", \"travel_time_sec\"}\n",
        "  if not reqCol.issubset(df.columns):\n",
        "      print(\"Error: Missing required columns in dataset.\")\n",
        "\n",
        "  # Run tracking function\n",
        "  result = traceRide(df, startTime, startStation, timeInTransit)\n",
        "\n",
        "  # Output result\n",
        "  #\n",
        "  print(f\"\\nTransit Path from {startStation} ({startTime}):\")\n",
        "  pathNum = 1\n",
        "\n",
        "  # Forgive how yucky this looks, I can't seem to get traceRide to output a consistent format\n",
        "  if not any(result):\n",
        "    print(\" | No path found\")\n",
        "  elif isNested(result):\n",
        "    for inner_array in result:\n",
        "      if any(inner_array):\n",
        "        print(f\"\\nPath {pathNum}\")\n",
        "        pathNum = pathNum + 1\n",
        "        for entry in inner_array:\n",
        "          if entry and entry[1] is not None:  # Ensure the entry and timestamp exist\n",
        "            station, pdTimestamp = entry\n",
        "            print(f\" | {station} --> {pdTimestamp}\")\n",
        "  else:\n",
        "    for station, timestamp in result:\n",
        "      pdTimestamp = pd.Timestamp(timestamp)\n",
        "      if pdTimestamp.date() == startTime.date():\n",
        "        print(f\" | {station} --> {pdTimestamp.strftime('%H:%M:%S')}\")\n",
        "\n",
        "  del df"
      ]
    },
    {
      "cell_type": "markdown",
      "metadata": {
        "id": "9TRAeRKpM-HS"
      },
      "source": [
        "### Sample Test Code"
      ]
    },
    {
      "cell_type": "code",
      "execution_count": 26,
      "metadata": {
        "colab": {
          "base_uri": "https://localhost:8080/"
        },
        "id": "xJLld3i2ZiEq",
        "outputId": "287320ab-058c-498e-b0d8-c41579ea893d"
      },
      "outputs": [
        {
          "output_type": "stream",
          "name": "stdout",
          "text": [
            "\n",
            "Transit Path from Dean Road (2024-01-04 08:02:01+00:00):\n",
            " | Saint Paul Street --> 08:13:57\n",
            " | Hawes Street --> 08:17:21\n",
            " | Kenmore --> 08:22:15\n"
          ]
        }
      ],
      "source": [
        "# Define test parameters\n",
        "start_time = \"2024-01-04 08:02:01+00:00\"\n",
        "start_station = \"Dean Road\"\n",
        "time_in_transit = 20  # minutes\n",
        "\n",
        "MassTrack(start_time, start_station, time_in_transit)"
      ]
    },
    {
      "cell_type": "markdown",
      "source": [
        "###Randomized Test Driver"
      ],
      "metadata": {
        "id": "j5pnOELcwKGB"
      }
    },
    {
      "cell_type": "code",
      "execution_count": 22,
      "metadata": {
        "id": "U5KYC8xibNce"
      },
      "outputs": [],
      "source": [
        "import pandas as pd\n",
        "import random\n",
        "\n",
        "def loadRandomDataset():\n",
        "    month_index = random.randint(0, 11)  # Select a random month (0 = Jan, 11 = Dec)\n",
        "    df = dataLoadFunctions[month_index]()  # Load the corresponding dataset\n",
        "    return df\n",
        "\n",
        "def generateTestInputs(n=1):\n",
        "    testCases = []\n",
        "\n",
        "    for _ in range(n):\n",
        "        df = loadRandomDataset()\n",
        "\n",
        "        if df.empty:\n",
        "            print(\"Error: Dataset is empty.\")\n",
        "            continue  # Skip this iteration\n",
        "\n",
        "        # Select a random row\n",
        "        randomRow = df.sample(n=1).iloc[0]\n",
        "\n",
        "        # Extract necessary fields\n",
        "        start_time = randomRow[\"from_stop_departure_datetime\"].strftime(\"%Y-%m-%d %H:%M:%S%z\")\n",
        "        start_station = randomRow[\"from_stop_name\"]\n",
        "        time_in_transit = random.randint(20, 60)  # Random transit time 20-60 min\n",
        "\n",
        "        testCases.append((start_time, start_station, time_in_transit))\n",
        "\n",
        "    return testCases\n",
        "\n",
        "def runTests(testCases):\n",
        "    for i, (start_time, start_station, time_in_transit) in enumerate(testCases):\n",
        "        print('-' * 50)\n",
        "        print(f\"# Test Case {i + 1}\")\n",
        "        print(f'start_time = \"{start_time}\"')\n",
        "        print(f'start_station = \"{start_station}\"')\n",
        "        print(f'time_in_transit = {time_in_transit}  # minutes\\n')\n",
        "\n",
        "        print(f\"MassTrack({start_time}, {start_station}, {time_in_transit})\")\n",
        "        MassTrack(start_time, start_station, time_in_transit)\n",
        "        print('-' * 50)"
      ]
    },
    {
      "cell_type": "code",
      "execution_count": 23,
      "metadata": {
        "colab": {
          "base_uri": "https://localhost:8080/"
        },
        "id": "6NG-6Zxvr8xz",
        "outputId": "0c51cd30-4cb1-4bc1-d686-af06ec8ce055"
      },
      "outputs": [
        {
          "output_type": "execute_result",
          "data": {
            "text/plain": [
              "[('2024-12-21 23:36:01+0000', 'Brandon Hall', 43),\n",
              " ('2024-02-28 21:50:45+0000', 'Mission Park', 39),\n",
              " ('2024-06-26 07:56:36+0000', 'Arlington', 55),\n",
              " ('2024-12-24 16:20:48+0000', 'Ball Square', 40),\n",
              " ('2024-01-14 07:02:35+0000', 'Lechmere', 40)]"
            ]
          },
          "metadata": {},
          "execution_count": 23
        }
      ],
      "source": [
        "# Generate test cases\n",
        "testCases = generateTestInputs(n=5)\n",
        "testCases"
      ]
    },
    {
      "cell_type": "code",
      "execution_count": 27,
      "metadata": {
        "colab": {
          "base_uri": "https://localhost:8080/"
        },
        "id": "ZwuO1DBJgsaO",
        "outputId": "4e3fbc68-46ef-42fc-fe36-11d386ac613e"
      },
      "outputs": [
        {
          "output_type": "stream",
          "name": "stdout",
          "text": [
            "--------------------------------------------------\n",
            "# Test Case 1\n",
            "start_time = \"2024-12-21 23:36:01+0000\"\n",
            "start_station = \"Brandon Hall\"\n",
            "time_in_transit = 43  # minutes\n",
            "\n",
            "MassTrack(2024-12-21 23:36:01+0000, Brandon Hall, 43)\n",
            "traceRide: No further connections found.\n",
            "\n",
            "Transit Path from Brandon Hall (2024-12-21 23:36:01+00:00):\n",
            " | Cleveland Circle --> 23:42:55\n",
            "--------------------------------------------------\n",
            "--------------------------------------------------\n",
            "# Test Case 2\n",
            "start_time = \"2024-02-28 21:50:45+0000\"\n",
            "start_station = \"Mission Park\"\n",
            "time_in_transit = 39  # minutes\n",
            "\n",
            "MassTrack(2024-02-28 21:50:45+0000, Mission Park, 39)\n",
            "traceRide: Next stop at (Medford/Tufts, 2024-02-28 22:38:01+00:00) exceeds time limit 14/6.0.\n",
            "\n",
            "Transit Path from Mission Park (2024-02-28 21:50:45+00:00):\n",
            " | Science Park/West End --> 22:24:24\n",
            "--------------------------------------------------\n",
            "--------------------------------------------------\n",
            "# Test Case 3\n",
            "start_time = \"2024-06-26 07:56:36+0000\"\n",
            "start_station = \"Arlington\"\n",
            "time_in_transit = 55  # minutes\n",
            "\n",
            "MassTrack(2024-06-26 07:56:36+0000, Arlington, 55)\n",
            "traceRide: No further connections found.\n",
            "\n",
            "Transit Path from Arlington (2024-06-26 07:56:36+00:00):\n",
            " | Museum of Fine Arts --> 08:05:18\n",
            " | Brigham Circle --> 08:08:42\n",
            " | Back of the Hill --> 08:15:25\n",
            " | Heath Street --> 08:16:08\n",
            "--------------------------------------------------\n",
            "--------------------------------------------------\n",
            "# Test Case 4\n",
            "start_time = \"2024-12-24 16:20:48+0000\"\n",
            "start_station = \"Ball Square\"\n",
            "time_in_transit = 40  # minutes\n",
            "\n",
            "MassTrack(2024-12-24 16:20:48+0000, Ball Square, 40)\n",
            "traceRide: No further connections found.\n",
            "\n",
            "Transit Path from Ball Square (2024-12-24 16:20:48+00:00):\n",
            " | Magoun Square --> 16:21:33\n",
            " | North Station --> 16:34:53\n",
            " | Boylston --> 16:47:46\n",
            " | Northeastern University --> 16:58:42\n",
            "--------------------------------------------------\n",
            "--------------------------------------------------\n",
            "# Test Case 5\n",
            "start_time = \"2024-01-14 07:02:35+0000\"\n",
            "start_station = \"Lechmere\"\n",
            "time_in_transit = 40  # minutes\n",
            "\n",
            "MassTrack(2024-01-14 07:02:35+0000, Lechmere, 40)\n",
            "traceRide: Next stop at (Heath Street, 2024-01-14 07:44:41+00:00) exceeds time limit 5/3.0.\n",
            "\n",
            "Transit Path from Lechmere (2024-01-14 07:02:35+00:00):\n",
            " | Science Park/West End --> 07:03:45\n",
            " | Park Street --> 07:13:07\n",
            " | Mission Park --> 07:40:05\n",
            "--------------------------------------------------\n"
          ]
        }
      ],
      "source": [
        "# Run test cases\n",
        "runTests(testCases)"
      ]
    }
  ],
  "metadata": {
    "colab": {
      "toc_visible": true,
      "provenance": [],
      "authorship_tag": "ABX9TyPGsTZtGSsiRd8ta2tGb3Il",
      "include_colab_link": true
    },
    "kernelspec": {
      "display_name": "Python 3",
      "name": "python3"
    },
    "language_info": {
      "name": "python"
    }
  },
  "nbformat": 4,
  "nbformat_minor": 0
}