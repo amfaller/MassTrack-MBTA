{
  "cells": [
    {
      "cell_type": "markdown",
      "metadata": {
        "id": "view-in-github",
        "colab_type": "text"
      },
      "source": [
        "<a href=\"https://colab.research.google.com/github/amfaller/MassTrack-MBTA/blob/main/MassTrack_MBTA.ipynb\" target=\"_parent\"><img src=\"https://colab.research.google.com/assets/colab-badge.svg\" alt=\"Open In Colab\"/></a>"
      ]
    },
    {
      "cell_type": "markdown",
      "metadata": {
        "id": "nh-FxLSLLS6-"
      },
      "source": [
        "# MassTrack: MBTA\n",
        "This Colab notebook serves as a scratch pad to analyze MBTA data for the Green Line portion of the MassTrack system."
      ]
    },
    {
      "cell_type": "markdown",
      "metadata": {
        "id": "aEGNgVqu7Mwm"
      },
      "source": [
        "## Fetch Data"
      ]
    },
    {
      "cell_type": "markdown",
      "metadata": {
        "id": "yp12jLZuLgd7"
      },
      "source": [
        "The data is located in a Zenodo repository located here: https://zenodo.org/records/15121997\n",
        "\n",
        "This is the same zip file available directly from the MBTA data repository: https://mbta-massdot.opendata.arcgis.com/datasets/0b4dc16b8b984836962229865d5b573b/about"
      ]
    },
    {
      "cell_type": "code",
      "execution_count": 1,
      "metadata": {
        "colab": {
          "base_uri": "https://localhost:8080/"
        },
        "id": "NQokm4dN5rwh",
        "outputId": "fb4996aa-4179-4d57-b82f-f40c029817fd"
      },
      "outputs": [
        {
          "output_type": "stream",
          "name": "stdout",
          "text": [
            "--2025-04-11 16:16:14--  https://zenodo.org/record/15121997/files/TravelTimes_2024.zip?download=1\n",
            "Resolving zenodo.org (zenodo.org)... 188.185.48.194, 188.185.43.25, 188.185.45.92, ...\n",
            "Connecting to zenodo.org (zenodo.org)|188.185.48.194|:443... connected.\n",
            "HTTP request sent, awaiting response... 301 MOVED PERMANENTLY\n",
            "Location: /records/15121997/files/TravelTimes_2024.zip [following]\n",
            "--2025-04-11 16:16:15--  https://zenodo.org/records/15121997/files/TravelTimes_2024.zip\n",
            "Reusing existing connection to zenodo.org:443.\n",
            "HTTP request sent, awaiting response... 200 OK\n",
            "Length: 1347504983 (1.3G) [application/octet-stream]\n",
            "Saving to: ‘TravelTimes_2024.zip’\n",
            "\n",
            "TravelTimes_2024.zi 100%[===================>]   1.25G  19.4MB/s    in 64s     \n",
            "\n",
            "2025-04-11 16:17:19 (20.1 MB/s) - ‘TravelTimes_2024.zip’ saved [1347504983/1347504983]\n",
            "\n"
          ]
        }
      ],
      "source": [
        "!wget -O TravelTimes_2024.zip \"https://zenodo.org/record/15121997/files/TravelTimes_2024.zip?download=1\""
      ]
    },
    {
      "cell_type": "code",
      "execution_count": 2,
      "metadata": {
        "id": "5rlM_2zf3FCR"
      },
      "outputs": [],
      "source": [
        "import zipfile\n",
        "import fnmatch\n",
        "\n",
        "# Define your pattern\n",
        "pattern = \"TravelTimes_2024/2024-*_LRTravelTimes.csv\"\n",
        "\n",
        "# Open the zip file\n",
        "with zipfile.ZipFile(\"TravelTimes_2024.zip\", \"r\") as zip_ref:\n",
        "    # List all files in the archive\n",
        "    all_files = zip_ref.namelist()\n",
        "\n",
        "    # Filter files that match the pattern\n",
        "    matching_files = [f for f in all_files if fnmatch.fnmatch(f, pattern)]\n",
        "\n",
        "    # Extract only the matching files\n",
        "    for file in matching_files:\n",
        "        zip_ref.extract(file, \"TravelTimes_2024\")"
      ]
    },
    {
      "cell_type": "markdown",
      "metadata": {
        "id": "cHuidMSE7O2l"
      },
      "source": [
        "## Preprocess / Import the Datasets\n",
        "\n",
        "The CSV files to analyze are all located in a directory `\"TravelTimes_2024/TravelTimes_2024/2024-XY_LRTravelTimes.csv\"` where `XY` correspond to a month -- i.e. January is `2024-01_LRTravelTimes.csv`.\n",
        "\n",
        "These files are large -- some are more than a gigabyte. However, it contains data for ALL trains, not just the Green line. Pre-process them via the filesystem."
      ]
    },
    {
      "cell_type": "code",
      "execution_count": 3,
      "metadata": {
        "id": "4zxAsPDYQIM5"
      },
      "outputs": [],
      "source": [
        "%%bash\n",
        "head -n 1 TravelTimes_2024/TravelTimes_2024/2024-01_LRTravelTimes.csv > 2024-01.csv\n",
        "awk -F ',' '$2 ~ /^Green-/' TravelTimes_2024/TravelTimes_2024/2024-01_LRTravelTimes.csv >> 2024-01.csv\n",
        "\n",
        "head -n 1 TravelTimes_2024/TravelTimes_2024/2024-02_LRTravelTimes.csv > 2024-02.csv\n",
        "awk -F ',' '$2 ~ /^Green-/' TravelTimes_2024/TravelTimes_2024/2024-02_LRTravelTimes.csv >> 2024-02.csv\n",
        "\n",
        "head -n 1 TravelTimes_2024/TravelTimes_2024/2024-03_LRTravelTimes.csv > 2024-03.csv\n",
        "awk -F ',' '$2 ~ /^Green-/' TravelTimes_2024/TravelTimes_2024/2024-03_LRTravelTimes.csv >> 2024-03.csv"
      ]
    },
    {
      "cell_type": "code",
      "execution_count": 4,
      "metadata": {
        "id": "QzQG-cbB_s5_"
      },
      "outputs": [],
      "source": [
        "%%bash\n",
        "head -n 1 TravelTimes_2024/TravelTimes_2024/2024-04_LRTravelTimes.csv > 2024-04.csv\n",
        "awk -F ',' '$2 ~ /^Green-/' TravelTimes_2024/TravelTimes_2024/2024-04_LRTravelTimes.csv >> 2024-04.csv\n",
        "\n",
        "head -n 1 TravelTimes_2024/TravelTimes_2024/2024-05_LRTravelTimes.csv > 2024-05.csv\n",
        "awk -F ',' '$2 ~ /^Green-/' TravelTimes_2024/TravelTimes_2024/2024-05_LRTravelTimes.csv >> 2024-05.csv\n",
        "\n",
        "head -n 1 TravelTimes_2024/TravelTimes_2024/2024-06_LRTravelTimes.csv > 2024-06.csv\n",
        "awk -F ',' '$2 ~ /^Green-/' TravelTimes_2024/TravelTimes_2024/2024-06_LRTravelTimes.csv >> 2024-06.csv"
      ]
    },
    {
      "cell_type": "code",
      "execution_count": 5,
      "metadata": {
        "id": "SSCPcOAV_u__"
      },
      "outputs": [],
      "source": [
        "%%bash\n",
        "head -n 1 TravelTimes_2024/TravelTimes_2024/2024-07_LRTravelTimes.csv > 2024-07.csv\n",
        "awk -F ',' '$2 ~ /^Green-/' TravelTimes_2024/TravelTimes_2024/2024-07_LRTravelTimes.csv >> 2024-07.csv\n",
        "\n",
        "head -n 1 TravelTimes_2024/TravelTimes_2024/2024-08_LRTravelTimes.csv > 2024-08.csv\n",
        "awk -F ',' '$2 ~ /^Green-/' TravelTimes_2024/TravelTimes_2024/2024-08_LRTravelTimes.csv >> 2024-08.csv\n",
        "\n",
        "head -n 1 TravelTimes_2024/TravelTimes_2024/2024-09_LRTravelTimes.csv > 2024-09.csv\n",
        "awk -F ',' '$2 ~ /^Green-/' TravelTimes_2024/TravelTimes_2024/2024-09_LRTravelTimes.csv >> 2024-09.csv"
      ]
    },
    {
      "cell_type": "code",
      "execution_count": 6,
      "metadata": {
        "id": "RNWhZ_9q_uvM"
      },
      "outputs": [],
      "source": [
        "%%bash\n",
        "head -n 1 TravelTimes_2024/TravelTimes_2024/2024-10_LRTravelTimes.csv > 2024-10.csv\n",
        "awk -F ',' '$2 ~ /^Green-/' TravelTimes_2024/TravelTimes_2024/2024-10_LRTravelTimes.csv >> 2024-10.csv\n",
        "\n",
        "head -n 1 TravelTimes_2024/TravelTimes_2024/2024-11_LRTravelTimes.csv > 2024-11.csv\n",
        "awk -F ',' '$2 ~ /^Green-/' TravelTimes_2024/TravelTimes_2024/2024-11_LRTravelTimes.csv >> 2024-11.csv\n",
        "\n",
        "head -n 1 TravelTimes_2024/TravelTimes_2024/2024-12_LRTravelTimes.csv > 2024-12.csv\n",
        "awk -F ',' '$2 ~ /^Green-/' TravelTimes_2024/TravelTimes_2024/2024-12_LRTravelTimes.csv >> 2024-12.csv\n"
      ]
    },
    {
      "cell_type": "code",
      "execution_count": 7,
      "metadata": {
        "colab": {
          "base_uri": "https://localhost:8080/"
        },
        "id": "sw3_js78IrxH",
        "outputId": "dbdcd163-33d0-479a-ad04-e4825ba96ec4"
      },
      "outputs": [
        {
          "output_type": "stream",
          "name": "stdout",
          "text": [
            "service_date,route_id,trip_id,direction_id,direction,from_parent_station,from_stop_id,from_stop_name,to_parent_station,to_stop_id,to_stop_name,from_stop_departure_datetime,from_stop_departure_sec,to_stop_arrival_datetime,to_stop_arrival_sec,travel_time_sec\n",
            "2024-01-01,Green-B,60564129,0,West,place-gover,70202,Government Center,place-pktrm,70196,Park Street,2024-01-01T06:09:23Z,22163,2024-01-01T06:11:05Z,22265,102\n",
            "2024-01-01,Green-B,60564129,0,West,place-gover,70202,Government Center,place-boyls,70159,Boylston,2024-01-01T06:09:23Z,22163,2024-01-01T06:13:01Z,22381,218\n",
            "2024-01-01,Green-B,60564129,0,West,place-gover,70202,Government Center,place-armnl,70157,Arlington,2024-01-01T06:09:23Z,22163,2024-01-01T06:15:23Z,22523,360\n",
            "2024-01-01,Green-B,60564129,0,West,place-gover,70202,Government Center,place-coecl,70155,Copley,2024-01-01T06:09:23Z,22163,2024-01-01T06:18:14Z,22694,531\n"
          ]
        }
      ],
      "source": [
        "!head -5 2024-01.csv"
      ]
    },
    {
      "cell_type": "code",
      "execution_count": 8,
      "metadata": {
        "id": "x8ekH0ATQS9J"
      },
      "outputs": [],
      "source": [
        "import pandas as pd\n",
        "\n",
        "# Needed because Pandas keeps reporting that columns 6,9 have mixed datatypes.\n",
        "# Also ensure that the datetime fields are interpreted as datetimes.\n",
        "def loadData(file_name):\n",
        "    df = pd.read_csv(\n",
        "        file_name,\n",
        "        parse_dates=[\"from_stop_departure_datetime\", \"to_stop_arrival_datetime\"],\n",
        "        low_memory=False\n",
        "    )\n",
        "\n",
        "    # Convert stop_id columns safely, replacing non-numeric values with NaN before conversion\n",
        "    df[\"from_stop_id\"] = pd.to_numeric(df[\"from_stop_id\"], errors=\"coerce\").fillna(0).astype(int)\n",
        "    df[\"to_stop_id\"] = pd.to_numeric(df[\"to_stop_id\"], errors=\"coerce\").fillna(0).astype(int)\n",
        "\n",
        "    return df\n",
        "\n",
        "\n",
        "# Helper functions to load each month\n",
        "def loadJan():\n",
        "    return loadData(\"2024-01.csv\")\n",
        "\n",
        "def loadFeb():\n",
        "    return loadData(\"2024-02.csv\")\n",
        "\n",
        "def loadMar():\n",
        "    return loadData(\"2024-03.csv\")\n",
        "\n",
        "def loadApr():\n",
        "    return loadData(\"2024-04.csv\")\n",
        "\n",
        "def loadMay():\n",
        "    return loadData(\"2024-05.csv\")\n",
        "\n",
        "def loadJun():\n",
        "    return loadData(\"2024-06.csv\")\n",
        "\n",
        "def loadJul():\n",
        "    return loadData(\"2024-07.csv\")\n",
        "\n",
        "def loadAug():\n",
        "    return loadData(\"2024-08.csv\")\n",
        "\n",
        "def loadSep():\n",
        "    return loadData(\"2024-09.csv\")\n",
        "\n",
        "def loadOct():\n",
        "    return loadData(\"2024-10.csv\")\n",
        "\n",
        "def loadNov():\n",
        "    return loadData(\"2024-11.csv\")\n",
        "\n",
        "def loadDec():\n",
        "    return loadData(\"2024-12.csv\")\n",
        "\n",
        "# Store function references for easy iteration\n",
        "dataLoadFunctions = [\n",
        "    loadJan, loadFeb, loadMar, loadApr, loadMay, loadJun,\n",
        "    loadJul, loadAug, loadSep, loadOct, loadNov, loadDec\n",
        "]\n",
        "\n",
        "months = [\"January\", \"February\", \"March\", \"April\", \"May\", \"June\",\n",
        "          \"July\", \"August\", \"September\", \"October\", \"November\", \"December\"]"
      ]
    },
    {
      "cell_type": "code",
      "execution_count": 8,
      "metadata": {
        "id": "mWw5rTO-qBkA"
      },
      "outputs": [],
      "source": []
    },
    {
      "cell_type": "markdown",
      "metadata": {
        "id": "rNS1mr_9KSgQ"
      },
      "source": [
        "## RQ1\n",
        "_Does the combination of [*from_stop_departure_datetime*, *from_stop_name*] constitute a pseudo-identifier?_\n",
        "\n",
        "Threat model:\n",
        "* Adversary has/knows:\n",
        "  * Start Station\n",
        "  * Start Time\n",
        "* Adversary hopes to:\n",
        "  * Identify a single record in the data such that other fields may be determined\n",
        "* Efficacy Metric:\n",
        "  * Group records by (startStation, startTime) fields. Report percentage of single-record groups for each month in 2024."
      ]
    },
    {
      "cell_type": "code",
      "execution_count": 9,
      "metadata": {
        "id": "Knm5-ecCKe1z"
      },
      "outputs": [],
      "source": [
        "def RQ1(df):\n",
        "  rq1 = df.groupby([\"from_stop_departure_datetime\", \"from_stop_name\",]).size().reset_index(name=\"count\")\n",
        "\n",
        "  uniqueRows = ((rq1[\"count\"] == 1) | (rq1[\"count\"] == 2)).sum()\n",
        "  percentage = (uniqueRows / len(df)) * 100\n",
        "  return percentage\n"
      ]
    },
    {
      "cell_type": "code",
      "execution_count": 10,
      "metadata": {
        "id": "w5kNWmAmRC7a"
      },
      "outputs": [],
      "source": [
        "percentages = []\n",
        "\n",
        "for loadFn in dataLoadFunctions:\n",
        "  df = loadFn()\n",
        "  monthPercentUnique = RQ1(df)\n",
        "  percentages.append(monthPercentUnique)\n",
        "  del df"
      ]
    },
    {
      "cell_type": "code",
      "execution_count": 11,
      "metadata": {
        "colab": {
          "base_uri": "https://localhost:8080/",
          "height": 537
        },
        "id": "ZUeo8RpuSw3v",
        "outputId": "4e119372-895c-48a8-dc34-1d59e8006b7d"
      },
      "outputs": [
        {
          "output_type": "display_data",
          "data": {
            "text/plain": [
              "<Figure size 1000x500 with 1 Axes>"
            ],
            "image/png": "[encoded data removed]"
          },
          "metadata": {}
        }
      ],
      "source": [
        "import matplotlib.pyplot as plt\n",
        "\n",
        "# Plot the results\n",
        "plt.figure(figsize=(10, 5))\n",
        "plt.plot(months, percentages, marker='o', linestyle='-')\n",
        "plt.xlabel(\"Month\")\n",
        "plt.ylabel(\"Percentage of Unique Rows\")\n",
        "plt.title(\"Percentage of Unique Rows Per Month\")\n",
        "plt.xticks(rotation=45)  # Rotate labels for readability\n",
        "plt.grid(True)\n",
        "plt.show()"
      ]
    },
    {
      "cell_type": "markdown",
      "metadata": {
        "id": "NsXmrif7Hf65"
      },
      "source": [
        "### Takeaways\n",
        "The above plot reveals that the percentage of unique rides (given the starting station and time) is around 1-2% across much of 2024. This is a very low uniqueness percentage, which implies that this combination of fields does not strongly constitute a pseudo-identifier.\n",
        "\n",
        "A speculation for this finding: it's possible that there is ambiguity due to the presence of multiple trains at the same station at the same time. This means that even if an attacker knows the start station and time, there is a low probability that the attacker will be able to re-identify that ride from this data."
      ]
    },
    {
      "cell_type": "markdown",
      "metadata": {
        "id": "DuTxEgMvKxx4"
      },
      "source": [
        "## RQ2\n",
        "_Does the combination of [*from_stop_departure_datetime*, *from_stop_name*, *direction*] constitute a pseudo-identifier?_\n",
        "\n",
        "Threat model:\n",
        "* Adversary has/knows:\n",
        "  * Start Station\n",
        "  * Start Time\n",
        "  * Direction (East/West)\n",
        "* Adversary hopes to:\n",
        "  * Identify a single record in the data such that other fields may be determined\n",
        "* Efficacy Metric:\n",
        "  * Group records by (startStation, startTime, direction) fields. Report percentage of single-record groups for each month in 2024."
      ]
    },
    {
      "cell_type": "code",
      "execution_count": 12,
      "metadata": {
        "id": "G9Q8QghXKyzq"
      },
      "outputs": [],
      "source": [
        "def RQ2(df):\n",
        "  rq2 = df.groupby([\"from_stop_departure_datetime\", \"from_stop_name\", \"direction\"]).size().reset_index(name=\"count\")\n",
        "\n",
        "  uniqueRows = ((rq2[\"count\"] == 1) | (rq2[\"count\"] == 2)).sum()\n",
        "  percentage = (uniqueRows / len(df)) * 100\n",
        "  return percentage"
      ]
    },
    {
      "cell_type": "code",
      "execution_count": 13,
      "metadata": {
        "id": "fzfeGOXbRb5O"
      },
      "outputs": [],
      "source": [
        "percentages2 = []\n",
        "\n",
        "for loadFn in dataLoadFunctions:\n",
        "  df = loadFn()\n",
        "  monthPercentUnique = RQ2(df)\n",
        "  percentages2.append(monthPercentUnique)\n",
        "  del df"
      ]
    },
    {
      "cell_type": "code",
      "execution_count": 14,
      "metadata": {
        "colab": {
          "base_uri": "https://localhost:8080/",
          "height": 537
        },
        "id": "wSPOO25gUtIT",
        "outputId": "61d6e769-b151-4cbe-df31-606fc3dfc9bc"
      },
      "outputs": [
        {
          "output_type": "display_data",
          "data": {
            "text/plain": [
              "<Figure size 1000x500 with 1 Axes>"
            ],
            "image/png": "[encoded data removed]"
          },
          "metadata": {}
        }
      ],
      "source": [
        "import matplotlib.pyplot as plt\n",
        "\n",
        "# Plot the results\n",
        "plt.figure(figsize=(10, 5))\n",
        "plt.plot(months, percentages2, marker='o', linestyle='-')\n",
        "plt.xlabel(\"Month\")\n",
        "plt.ylabel(\"Percentage of Unique Rows\")\n",
        "plt.title(\"Percentage of Unique Rows Per Month\")\n",
        "plt.xticks(rotation=45)  # Rotate labels for readability\n",
        "plt.grid(True)\n",
        "plt.show()"
      ]
    },
    {
      "cell_type": "markdown",
      "metadata": {
        "id": "yc9XzjcQgFJz"
      },
      "source": [
        "### Takeaways\n",
        "\n",
        "Including the direction field does not appear to significantly modify the uniqueness percentage. This suggests that direction is not a signficiant factor in the dataset, and if an adversary knew the combination of startStation, startTime, and direction, it would be difficult to identify the ride within the dataset."
      ]
    },
    {
      "cell_type": "code",
      "execution_count": 15,
      "metadata": {
        "colab": {
          "base_uri": "https://localhost:8080/"
        },
        "id": "EdBzvFJVNkxJ",
        "outputId": "c5bfb2c0-bb7e-457b-80e3-e848975cbcdb"
      },
      "outputs": [
        {
          "output_type": "execute_result",
          "data": {
            "text/plain": [
              "[np.float64(2.2629701555323773),\n",
              " np.float64(1.3254729204457112),\n",
              " np.float64(1.2599976607638366),\n",
              " np.float64(1.1503667154930939),\n",
              " np.float64(1.121882632955229),\n",
              " np.float64(1.1647141955170648),\n",
              " np.float64(1.1557151349030275),\n",
              " np.float64(1.2540925740167714),\n",
              " np.float64(1.1651629277715612),\n",
              " np.float64(1.182005549016358),\n",
              " np.float64(1.1494663801313125),\n",
              " np.float64(1.3695500155077942)]"
            ]
          },
          "metadata": {},
          "execution_count": 15
        }
      ],
      "source": [
        "percentages"
      ]
    },
    {
      "cell_type": "code",
      "execution_count": 16,
      "metadata": {
        "colab": {
          "base_uri": "https://localhost:8080/"
        },
        "id": "abBo9suvNmEe",
        "outputId": "69cf548c-fad4-4aeb-c1f8-eb9be7390f51"
      },
      "outputs": [
        {
          "output_type": "execute_result",
          "data": {
            "text/plain": [
              "[np.float64(2.269084906681214),\n",
              " np.float64(1.3293787156693744),\n",
              " np.float64(1.2636769788275497),\n",
              " np.float64(1.1539015304024256),\n",
              " np.float64(1.1255025345458136),\n",
              " np.float64(1.1684168728934543),\n",
              " np.float64(1.1592495191170993),\n",
              " np.float64(1.258450598127577),\n",
              " np.float64(1.16902689462467),\n",
              " np.float64(1.1855813075609483),\n",
              " np.float64(1.1531297249240002),\n",
              " np.float64(1.3736244012268388)]"
            ]
          },
          "metadata": {},
          "execution_count": 16
        }
      ],
      "source": [
        "percentages2"
      ]
    },
    {
      "cell_type": "markdown",
      "metadata": {
        "id": "0yF3ZIOGD9he"
      },
      "source": [
        "## MassTrack Mapping\n",
        "To demonstrate the risks associated with this dataset, here the MassTrack system is implemented.\n",
        "\n",
        "Given a start station, a start timestamp, and time spent in transit, the MassTrack system outputs a possible transit path for that ride. This is done by iteratively finding origin/destination rows and keeping track of the transit time.\n",
        "\n",
        "The origin row has a pair `from_stop_name, to_stop_name`. The destination row also has these fields. A match is found when the origin's `to_stop_name` matches the destination's `from_stop_name`, the destination's `from_stop_departure_datetime` comes after the origin's `to_stop_arrival_datetime`, and the two rows' `direction` fields are the same.\n",
        "\n",
        "\n",
        "Additionally, consider transfer nodes. From the Revised Project Proposal:\n",
        "\n",
        "> So-called “Transfer Nodes” will represent stations at which a rider is likely to transfer to a different train, as opposed to staying on the train they are already on. This would occur when a rider needs to change directions or lines, i.e. someone travelling from BU East on the B line to Waban on the D line would likely transfer at Kenmore.\n",
        "\n",
        "> Transfer Nodes:\n",
        ">\n",
        "> * Kenmore\n",
        "> * Copley\n",
        "> * Government Center\n",
        "> * Lechmere\n",
        "\n",
        "When a train departs a transfer node, the following branching logic is executed:\n",
        "\n",
        "* If Kenmore and direction is West:\n",
        " - Start four iterations. Each will be one of `route_id = [Green-B, Green-C, Green-D , Green-E]`\n",
        "\n",
        "* If Copley and direction is West:\n",
        " - Start two iterations. Each will be one of `route_id = [Green-E,  NOT Green-E]`\n",
        "\n",
        "* If Government Center and direction is East:\n",
        " - Start two iterations. Each will be one of `route_id = [Green-D, Green-E]`\n",
        "\n",
        "* If Lechmere and direction is East:\n",
        " - Start two iterations. Each will be one of `route_id = [Green-D, Green-E]`"
      ]
    },
    {
      "cell_type": "code",
      "execution_count": 17,
      "metadata": {
        "id": "fsNc4TMuD8I8"
      },
      "outputs": [],
      "source": [
        "import pandas as pd\n",
        "\n",
        "TRANSFER_NODES = {\n",
        "    \"Kenmore\": {\"West\": [\"Green-B\", \"Green-C\", \"Green-D\", \"Green-E\"]},\n",
        "    \"Copley\": {\"West\": [\"Green-E\", \"EXCLUDE Green-E\"]},\n",
        "    \"Government Center\": {\"East\": [\"Green-D\", \"Green-E\"]},\n",
        "    \"Lechmere\": {\"East\": [\"Green-D\", \"Green-E\"]}\n",
        "}\n",
        "\n",
        "def traceRide(df, startTime, startStation, timeInTransit):\n",
        "    # Ensure start_time is datetime\n",
        "    startTime = pd.to_datetime(startTime)\n",
        "    remainingTime = timeInTransit\n",
        "\n",
        "    # Sort by departure time\n",
        "    df_sorted = df.sort_values(\"from_stop_departure_datetime\")\n",
        "\n",
        "    # Step 1: Find the closest matching record for the given start time and start station\n",
        "    #\n",
        "    df_sameStartStation = df_sorted[df_sorted[\"from_stop_name\"] == startStation]\n",
        "\n",
        "    if df_sameStartStation.empty:\n",
        "        print(\"No matching start record found.\")\n",
        "        return []\n",
        "\n",
        "    # Find the closest departure time\n",
        "    closestIdx = (df_sameStartStation[\"from_stop_departure_datetime\"] - startTime).abs().idxmin()\n",
        "    closestMatch = df_sameStartStation.loc[closestIdx]\n",
        "\n",
        "    # Round timestamps to the nearest minute before performing the calculation\n",
        "    roundedArrival = closestMatch[\"to_stop_arrival_datetime\"].round(\"min\")\n",
        "    roundedStart = startTime.round(\"min\")\n",
        "\n",
        "    # Compute the time difference using the rounded timestamps\n",
        "    timeDiff = (roundedArrival - roundedStart).total_seconds() / 60  # Convert to minutes\n",
        "\n",
        "    if timeDiff > remainingTime:\n",
        "        print(f\"traceRide: Next stop at ({closestMatch['to_stop_name']}, {closestMatch['to_stop_arrival_datetime']}) exceeds time limit.\")\n",
        "        return []  # Stop tracking if it's beyond the allowed transit time\n",
        "\n",
        "    ridePath = [(closestMatch[\"to_stop_name\"], closestMatch[\"to_stop_arrival_datetime\"])]\n",
        "    trainDirection = closestMatch[\"direction\"]\n",
        "    routeId = closestMatch[\"route_id\"]\n",
        "    remainingTime -= timeDiff\n",
        "\n",
        "    while remainingTime > 0:\n",
        "        # Check if the current stop is a transfer node\n",
        "        #\n",
        "        if closestMatch[\"to_stop_name\"] in TRANSFER_NODES:\n",
        "            transferPaths = TRANSFER_NODES[closestMatch[\"to_stop_name\"]].get(trainDirection, [])\n",
        "\n",
        "            # If transfer options exist, create multiple iterations\n",
        "            if transferPaths:\n",
        "                print(f\"Possible transfer at {closestMatch['to_stop_name']} - Splitting into {len(transferPaths)} paths.\")\n",
        "                paths = []\n",
        "\n",
        "                for new_route in transferPaths:\n",
        "                    if new_route == \"EXCLUDE Green-E\":\n",
        "                        filtered_df = df_sorted[df_sorted[\"route_id\"] != \"Green-E\"]  # Exclude Green-E\n",
        "                    else:\n",
        "                        filtered_df = df_sorted[df_sorted[\"route_id\"] == new_route]  # Follow specific route\n",
        "\n",
        "                    # Recurse\n",
        "                    paths.append(traceRide(filtered_df, closestMatch[\"to_stop_arrival_datetime\"], closestMatch[\"to_stop_name\"], remainingTime))\n",
        "\n",
        "                return paths\n",
        "\n",
        "        # Step 2: Find the next record where:\n",
        "        # - The previous to_stop_name matches the next from_stop_name\n",
        "        # - The next from_stop_departure_datetime comes AFTER the previous to_stop_arrival_datetime\n",
        "        # - The direction is the same\n",
        "        # - The route (B/C/D/E) remains the same\n",
        "        #\n",
        "        next_record = df_sorted[\n",
        "            (closestMatch[\"to_stop_name\"] == df_sorted[\"from_stop_name\"]) &\n",
        "            (closestMatch[\"to_stop_arrival_datetime\"] < df_sorted[\"from_stop_departure_datetime\"]) &\n",
        "            (trainDirection == df_sorted[\"direction\"]) &\n",
        "            (routeId == df_sorted[\"route_id\"])\n",
        "        ]\n",
        "\n",
        "        if next_record.empty:\n",
        "            print(\"traceRide: No further connections found.\")\n",
        "            break  # Exit when no next stop is available\n",
        "\n",
        "        # Select the first matching row (closest departure after previous arrival)\n",
        "        closestMatch = next_record.iloc[0]\n",
        "\n",
        "        # Round timestamps to the nearest minute before performing the calculation\n",
        "        roundedArrival = closestMatch[\"to_stop_arrival_datetime\"].round(\"min\")\n",
        "        latestTimestamp = ridePath[-1][1].round(\"min\")\n",
        "\n",
        "        # Compute the time difference using the rounded timestamps\n",
        "        timeDiff = round((roundedArrival - latestTimestamp).total_seconds() / 60)  # Convert to minutes\n",
        "\n",
        "        if timeDiff > remainingTime:\n",
        "            print(f\"traceRide: Next stop at ({closestMatch['to_stop_name']}, {closestMatch['to_stop_arrival_datetime']}) exceeds time limit {timeDiff}/{remainingTime}.\")\n",
        "            return ridePath  # Stop tracking if it's beyond the allowed transit time\n",
        "\n",
        "        # Step 3: Subtract trip duration (`travel_time_sec`)\n",
        "        #\n",
        "        remainingTime -= timeDiff\n",
        "\n",
        "        # Step 4: Add to transit path and continue, storing formatted time\n",
        "        #\n",
        "        ridePath.append((closestMatch[\"to_stop_name\"], closestMatch[\"to_stop_arrival_datetime\"]))\n",
        "\n",
        "    return ridePath\n"
      ]
    },
    {
      "cell_type": "code",
      "execution_count": 18,
      "metadata": {
        "id": "NsuFqmDdEKJA"
      },
      "outputs": [],
      "source": [
        "def isNested(lst):\n",
        "    return any(isinstance(i, list) for i in lst)\n",
        "\n",
        "def MassTrack(startTime, startStation, timeInTransit):\n",
        "\n",
        "  # Convert start_time to datetime for consistency\n",
        "  startTime = pd.to_datetime(startTime)\n",
        "\n",
        "  # Extract the month from the startTime, load the correct month's data\n",
        "  df = dataLoadFunctions[startTime.month  - 1]()\n",
        "\n",
        "  # Validate dataset structure\n",
        "  if df.empty:\n",
        "      print(\"Error: Dataset could not be loaded or is empty.\")\n",
        "\n",
        "  # Ensure required columns exist\n",
        "  reqCol = {\"from_stop_departure_datetime\", \"from_stop_name\", \"to_stop_name\", \"to_stop_arrival_datetime\", \"travel_time_sec\"}\n",
        "  if not reqCol.issubset(df.columns):\n",
        "      print(\"Error: Missing required columns in dataset.\")\n",
        "\n",
        "  # Run tracking function\n",
        "  result = traceRide(df, startTime, startStation, timeInTransit)\n",
        "\n",
        "  # Output result\n",
        "  #\n",
        "  print(f\"\\nTransit Path from {startStation} ({startTime}):\")\n",
        "  pathNum = 1\n",
        "\n",
        "  # Forgive how yucky this looks, I can't seem to get traceRide to output a consistent format\n",
        "  if not any(result):\n",
        "    print(\" | No path found\")\n",
        "  elif isNested(result):\n",
        "    for inner_array in result:\n",
        "      if any(inner_array):\n",
        "        print(f\"\\nPath {pathNum}\")\n",
        "        pathNum = pathNum + 1\n",
        "        for entry in inner_array:\n",
        "          if entry and entry[1] is not None:  # Ensure the entry and timestamp exist\n",
        "            station, pdTimestamp = entry\n",
        "            print(f\" | {station} --> {pdTimestamp}\")\n",
        "  else:\n",
        "    for station, timestamp in result:\n",
        "      pdTimestamp = pd.Timestamp(timestamp)\n",
        "      if pdTimestamp.date() == startTime.date():\n",
        "        print(f\" | {station} --> {pdTimestamp.strftime('%H:%M:%S')}\")\n",
        "\n",
        "  del df"
      ]
    },
    {
      "cell_type": "markdown",
      "metadata": {
        "id": "9TRAeRKpM-HS"
      },
      "source": [
        "### Sample Test Code"
      ]
    },
    {
      "cell_type": "code",
      "execution_count": 19,
      "metadata": {
        "colab": {
          "base_uri": "https://localhost:8080/"
        },
        "id": "xJLld3i2ZiEq",
        "outputId": "82ac6bd3-62b1-4026-b3d9-de79a6a8f8d3"
      },
      "outputs": [
        {
          "output_type": "stream",
          "name": "stdout",
          "text": [
            "\n",
            "Transit Path from Dean Road (2024-01-04 08:02:01+00:00):\n",
            " | Saint Paul Street --> 08:13:57\n",
            " | Hawes Street --> 08:17:21\n",
            " | Kenmore --> 08:22:15\n"
          ]
        }
      ],
      "source": [
        "# Define test parameters\n",
        "start_time = \"2024-01-04 08:02:01+00:00\"\n",
        "start_station = \"Dean Road\"\n",
        "time_in_transit = 20  # minutes\n",
        "\n",
        "MassTrack(start_time, start_station, time_in_transit)"
      ]
    },
    {
      "cell_type": "markdown",
      "source": [
        "###Randomized Test Driver"
      ],
      "metadata": {
        "id": "j5pnOELcwKGB"
      }
    },
    {
      "cell_type": "code",
      "execution_count": 20,
      "metadata": {
        "id": "U5KYC8xibNce"
      },
      "outputs": [],
      "source": [
        "import pandas as pd\n",
        "import random\n",
        "\n",
        "def loadRandomDataset():\n",
        "    month_index = random.randint(0, 11)  # Select a random month (0 = Jan, 11 = Dec)\n",
        "    df = dataLoadFunctions[month_index]()  # Load the corresponding dataset\n",
        "    return df\n",
        "\n",
        "def generateTestInputs(n=1):\n",
        "    testCases = []\n",
        "\n",
        "    for _ in range(n):\n",
        "        df = loadRandomDataset()\n",
        "\n",
        "        if df.empty:\n",
        "            print(\"Error: Dataset is empty.\")\n",
        "            continue  # Skip this iteration\n",
        "\n",
        "        # Select a random row\n",
        "        randomRow = df.sample(n=1).iloc[0]\n",
        "\n",
        "        # Extract necessary fields\n",
        "        start_time = randomRow[\"from_stop_departure_datetime\"].strftime(\"%Y-%m-%d %H:%M:%S%z\")\n",
        "        start_station = randomRow[\"from_stop_name\"]\n",
        "        time_in_transit = random.randint(20, 60)  # Random transit time 20-60 min\n",
        "\n",
        "        testCases.append((start_time, start_station, time_in_transit))\n",
        "\n",
        "    return testCases\n",
        "\n",
        "def runTests(testCases):\n",
        "    for i, (start_time, start_station, time_in_transit) in enumerate(testCases):\n",
        "        print('-' * 50)\n",
        "        print(f\"# Test Case {i + 1}\")\n",
        "        print(f'start_time = \"{start_time}\"')\n",
        "        print(f'start_station = \"{start_station}\"')\n",
        "        print(f'time_in_transit = {time_in_transit}  # minutes\\n')\n",
        "\n",
        "        print(f\"MassTrack({start_time}, {start_station}, {time_in_transit})\")\n",
        "        MassTrack(start_time, start_station, time_in_transit)\n",
        "        print('-' * 50)"
      ]
    },
    {
      "cell_type": "code",
      "execution_count": 21,
      "metadata": {
        "colab": {
          "base_uri": "https://localhost:8080/"
        },
        "id": "6NG-6Zxvr8xz",
        "outputId": "a5fe5c1e-13de-475b-bdd3-9eabf2066726"
      },
      "outputs": [
        {
          "output_type": "execute_result",
          "data": {
            "text/plain": [
              "[('2024-11-23 10:33:17+0000', 'Northeastern University', 36),\n",
              " ('2024-01-04 08:56:54+0000', 'Harvard Avenue', 39),\n",
              " ('2024-06-29 22:18:36+0000', 'Copley', 23),\n",
              " ('2024-08-03 19:15:56+0000', 'North Station', 23),\n",
              " ('2024-12-12 05:10:31+0000', 'Allston Street', 34)]"
            ]
          },
          "metadata": {},
          "execution_count": 21
        }
      ],
      "source": [
        "# Generate test cases\n",
        "testCases = generateTestInputs(n=5)\n",
        "testCases"
      ]
    },
    {
      "cell_type": "code",
      "execution_count": 22,
      "metadata": {
        "colab": {
          "base_uri": "https://localhost:8080/"
        },
        "id": "ZwuO1DBJgsaO",
        "outputId": "59a33d38-1344-41ee-898f-c36e6db9f9b8"
      },
      "outputs": [
        {
          "output_type": "stream",
          "name": "stdout",
          "text": [
            "--------------------------------------------------\n",
            "# Test Case 1\n",
            "start_time = \"2024-11-23 10:33:17+0000\"\n",
            "start_station = \"Northeastern University\"\n",
            "time_in_transit = 36  # minutes\n",
            "\n",
            "MassTrack(2024-11-23 10:33:17+0000, Northeastern University, 36)\n",
            "traceRide: No further connections found.\n",
            "\n",
            "Transit Path from Northeastern University (2024-11-23 10:33:17+00:00):\n",
            " | Heath Street --> 10:47:47\n",
            "--------------------------------------------------\n",
            "--------------------------------------------------\n",
            "# Test Case 2\n",
            "start_time = \"2024-01-04 08:56:54+0000\"\n",
            "start_station = \"Harvard Avenue\"\n",
            "time_in_transit = 39  # minutes\n",
            "\n",
            "MassTrack(2024-01-04 08:56:54+0000, Harvard Avenue, 39)\n",
            "traceRide: No further connections found.\n",
            "\n",
            "Transit Path from Harvard Avenue (2024-01-04 08:56:54+00:00):\n",
            " | Chiswick Road --> 09:08:10\n",
            " | Chestnut Hill Avenue --> 09:09:33\n",
            " | Boston College --> 09:15:23\n",
            "--------------------------------------------------\n",
            "--------------------------------------------------\n",
            "# Test Case 3\n",
            "start_time = \"2024-06-29 22:18:36+0000\"\n",
            "start_station = \"Copley\"\n",
            "time_in_transit = 23  # minutes\n",
            "\n",
            "MassTrack(2024-06-29 22:18:36+0000, Copley, 23)\n",
            "traceRide: Next stop at (Reservoir, 2024-06-29 22:49:01+00:00) exceeds time limit 20/13.0.\n",
            "\n",
            "Transit Path from Copley (2024-06-29 22:18:36+00:00):\n",
            " | Fenway --> 22:26:50\n",
            " | Longwood --> 22:28:34\n",
            "--------------------------------------------------\n",
            "--------------------------------------------------\n",
            "# Test Case 4\n",
            "start_time = \"2024-08-03 19:15:56+0000\"\n",
            "start_station = \"North Station\"\n",
            "time_in_transit = 23  # minutes\n",
            "\n",
            "MassTrack(2024-08-03 19:15:56+0000, North Station, 23)\n",
            "traceRide: Next stop at (Back of the Hill, 2024-08-03 19:50:49+00:00) exceeds time limit 30/18.0.\n",
            "\n",
            "Transit Path from North Station (2024-08-03 19:15:56+00:00):\n",
            " | Park Street --> 19:20:58\n",
            "--------------------------------------------------\n",
            "--------------------------------------------------\n",
            "# Test Case 5\n",
            "start_time = \"2024-12-12 05:10:31+0000\"\n",
            "start_station = \"Allston Street\"\n",
            "time_in_transit = 34  # minutes\n",
            "\n",
            "MassTrack(2024-12-12 05:10:31+0000, Allston Street, 34)\n",
            "traceRide: Next stop at (Government Center, 2024-12-21 05:48:22+00:00) exceeds time limit 12968/5.0.\n",
            "\n",
            "Transit Path from Allston Street (2024-12-12 05:10:31+00:00):\n",
            " | Griggs Street --> 05:11:01\n",
            " | Babcock Street --> 05:16:49\n",
            " | Kenmore --> 05:24:57\n",
            " | Hynes Convention Center --> 05:32:50\n",
            " | Park Street --> 05:39:55\n",
            "--------------------------------------------------\n"
          ]
        }
      ],
      "source": [
        "# Run test cases\n",
        "runTests(testCases)"
      ]
    }
  ],
  "metadata": {
    "colab": {
      "provenance": [],
      "authorship_tag": "ABX9TyPC3LeGjEfR2ssoCwkJy7Ls",
      "include_colab_link": true
    },
    "kernelspec": {
      "display_name": "Python 3",
      "name": "python3"
    },
    "language_info": {
      "name": "python"
    }
  },
  "nbformat": 4,
  "nbformat_minor": 0
}